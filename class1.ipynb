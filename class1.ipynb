{
  "cells": [
    {
      "cell_type": "code",
      "execution_count": 1,
      "metadata": {
        "id": "fz48v0qH0lg9"
      },
      "outputs": [],
      "source": [
        "# Mathematical Operators in Python"
      ]
    },
    {
      "cell_type": "code",
      "execution_count": 2,
      "metadata": {
        "colab": {
          "base_uri": "https://localhost:8080/"
        },
        "id": "FY46mB1g1F2o",
        "outputId": "b22f003e-2ffe-4116-e01f-446adf3c7be3"
      },
      "outputs": [
        {
          "name": "stdout",
          "output_type": "stream",
          "text": [
            "50\n"
          ]
        }
      ],
      "source": [
        "print(20 + 30)"
      ]
    },
    {
      "cell_type": "code",
      "execution_count": 3,
      "metadata": {
        "colab": {
          "base_uri": "https://localhost:8080/"
        },
        "id": "l_EoWyth1bT6",
        "outputId": "c5ad4324-940d-450b-d434-61cbe4dc04b9"
      },
      "outputs": [
        {
          "name": "stdout",
          "output_type": "stream",
          "text": [
            "40\n"
          ]
        }
      ],
      "source": [
        "a = 10\n",
        "b = 30\n",
        "print(a+b)"
      ]
    },
    {
      "cell_type": "code",
      "execution_count": 4,
      "metadata": {
        "colab": {
          "base_uri": "https://localhost:8080/"
        },
        "id": "RQiIm7t41juH",
        "outputId": "8a35a59c-ca4a-4977-97ba-8ffa44b575b3"
      },
      "outputs": [
        {
          "name": "stdout",
          "output_type": "stream",
          "text": [
            "-10\n"
          ]
        }
      ],
      "source": [
        "print(20 - 30)"
      ]
    },
    {
      "cell_type": "code",
      "execution_count": 5,
      "metadata": {
        "colab": {
          "base_uri": "https://localhost:8080/"
        },
        "id": "bCMhMVtS1oFr",
        "outputId": "d56f9dd3-6a86-4f51-d0f2-39f866788fcd"
      },
      "outputs": [
        {
          "name": "stdout",
          "output_type": "stream",
          "text": [
            "0.6666666666666666\n"
          ]
        }
      ],
      "source": [
        "print(20 / 30)"
      ]
    },
    {
      "cell_type": "code",
      "execution_count": 6,
      "metadata": {
        "colab": {
          "base_uri": "https://localhost:8080/"
        },
        "id": "nsVLukx81ppJ",
        "outputId": "55b7dc5e-6efd-4d85-f6b8-1022ebe34c37"
      },
      "outputs": [
        {
          "name": "stdout",
          "output_type": "stream",
          "text": [
            "1500\n"
          ]
        }
      ],
      "source": [
        "print(50 * 30)"
      ]
    },
    {
      "cell_type": "code",
      "execution_count": 7,
      "metadata": {
        "colab": {
          "base_uri": "https://localhost:8080/"
        },
        "id": "P6s1imxE1zdW",
        "outputId": "420adb0b-da35-4eff-c090-dc817601ba9e"
      },
      "outputs": [
        {
          "name": "stdout",
          "output_type": "stream",
          "text": [
            "1.6666666666666667\n"
          ]
        }
      ],
      "source": [
        "print(50 / 30)"
      ]
    },
    {
      "cell_type": "code",
      "execution_count": 8,
      "metadata": {
        "colab": {
          "base_uri": "https://localhost:8080/"
        },
        "id": "QFZ-xiTg1tHZ",
        "outputId": "13e62ed8-8568-4adf-8386-b6f4c266e6e1"
      },
      "outputs": [
        {
          "name": "stdout",
          "output_type": "stream",
          "text": [
            "1\n"
          ]
        }
      ],
      "source": [
        "print(50 // 30)   ## floor division"
      ]
    },
    {
      "cell_type": "code",
      "execution_count": 9,
      "metadata": {
        "colab": {
          "base_uri": "https://localhost:8080/"
        },
        "id": "tn_z0HRF13Qd",
        "outputId": "df99d526-437c-4ed3-fc15-6026847e3a32"
      },
      "outputs": [
        {
          "name": "stdout",
          "output_type": "stream",
          "text": [
            "125000\n"
          ]
        }
      ],
      "source": [
        "print(50 ** 3)   ## exponent/power"
      ]
    },
    {
      "cell_type": "code",
      "execution_count": 10,
      "metadata": {
        "colab": {
          "base_uri": "https://localhost:8080/"
        },
        "id": "YgIgSEFI17ZJ",
        "outputId": "7eb09c1c-75a7-4506-8d6d-8e60ba19596f"
      },
      "outputs": [
        {
          "name": "stdout",
          "output_type": "stream",
          "text": [
            "2\n"
          ]
        }
      ],
      "source": [
        "print(50 % 3)   ## remainder/modulas"
      ]
    },
    {
      "cell_type": "markdown",
      "metadata": {
        "id": "1fZhhpV52wL3"
      },
      "source": [
        "Datatypes in Python\n",
        "1. Primitive - int, float, string, bool, complex\n",
        "2. Core - list, tuple, dictionary, array, sets"
      ]
    },
    {
      "cell_type": "code",
      "execution_count": 11,
      "metadata": {
        "id": "t2sj3hkA2Akq"
      },
      "outputs": [],
      "source": [
        "### Primitive"
      ]
    },
    {
      "cell_type": "code",
      "execution_count": 12,
      "metadata": {
        "id": "R8_5oRPl3N0m"
      },
      "outputs": [],
      "source": [
        "a1 = 10     ## int\n",
        "a2 = 20.5   ## float\n",
        "a3 = \"Python\"  ## string\n",
        "a4 = 'Umang'    ## string\n",
        "a5 = True     ## bool\n",
        "a6 = False   ## bool\n",
        "a7 = 23 + 7j   ## complex\n",
        "a8 = float(10)  ## float"
      ]
    },
    {
      "cell_type": "code",
      "execution_count": 13,
      "metadata": {
        "colab": {
          "base_uri": "https://localhost:8080/"
        },
        "id": "8SiO6xGe3168",
        "outputId": "40fc68b5-6fed-40f6-c4f1-f3f7a1c692cd"
      },
      "outputs": [
        {
          "name": "stdout",
          "output_type": "stream",
          "text": [
            "<class 'int'>\n",
            "<class 'float'>\n",
            "<class 'str'>\n",
            "<class 'str'>\n",
            "<class 'bool'>\n",
            "<class 'bool'>\n",
            "<class 'complex'>\n",
            "<class 'float'>\n"
          ]
        }
      ],
      "source": [
        "print(type(a1))\n",
        "print(type(a2))\n",
        "print(type(a3))\n",
        "print(type(a4))\n",
        "print(type(a5))\n",
        "print(type(a6))\n",
        "print(type(a7))\n",
        "print(type(a8))"
      ]
    },
    {
      "cell_type": "code",
      "execution_count": 14,
      "metadata": {
        "id": "eey3FEW33-AP"
      },
      "outputs": [],
      "source": [
        "### Core Datatype"
      ]
    },
    {
      "cell_type": "markdown",
      "metadata": {
        "id": "4f_ZsAcd41Vd"
      },
      "source": [
        "List\n",
        "* Group of heterogenous data (different data type)\n",
        "* It is identified by [a,v,b,x]\n",
        "* It is mutable (can be modified)\n",
        "\n",
        "Tuple\n",
        "* Group of heterogenous data (different data type)\n",
        "* It is identified by (a,v,b,x)\n",
        "* It is immutable (cannot be modified)\n",
        "\n",
        "Dictionary\n",
        "* Stores the data in the form of key-value pairs\n",
        "* It is identified by {\"key\":\"value\"}\n",
        "* It is mutable (can be modified)\n",
        "\n",
        "Array\n",
        "* Group of homogenous data (same data type)\n",
        "* It is identified by [1 2 3 4]\n",
        "* It can be multidimentional\n",
        "* It is mutable (can be modified)\n",
        "\n",
        "Set\n",
        "* Unordered collection of unique data\n",
        "* It is identified by {a,v,b,x}\n",
        "* It is mutable (can be modified)"
      ]
    },
    {
      "cell_type": "code",
      "execution_count": 15,
      "metadata": {
        "id": "pmETUna44z2s"
      },
      "outputs": [],
      "source": [
        "## List"
      ]
    },
    {
      "cell_type": "code",
      "execution_count": 16,
      "metadata": {
        "colab": {
          "base_uri": "https://localhost:8080/"
        },
        "id": "zrAIQgcF6hgB",
        "outputId": "9859cc94-9f97-4fbc-8187-0ef385afd5d5"
      },
      "outputs": [
        {
          "name": "stdout",
          "output_type": "stream",
          "text": [
            "[1, 2, 3, 4, 5]\n",
            "<class 'list'>\n"
          ]
        }
      ],
      "source": [
        "x1 = [1,2,3,4,5]\n",
        "print(x1)\n",
        "print(type(x1))"
      ]
    },
    {
      "cell_type": "code",
      "execution_count": 17,
      "metadata": {
        "colab": {
          "base_uri": "https://localhost:8080/"
        },
        "id": "FzSscJ2Z6myL",
        "outputId": "0583bbdd-d04d-4021-f546-923da44228c4"
      },
      "outputs": [
        {
          "data": {
            "text/plain": [
              "5"
            ]
          },
          "execution_count": 17,
          "metadata": {},
          "output_type": "execute_result"
        }
      ],
      "source": [
        "len(x1)"
      ]
    },
    {
      "cell_type": "code",
      "execution_count": 18,
      "metadata": {
        "id": "d0xW0M196yRU"
      },
      "outputs": [],
      "source": [
        "## Slicing and indexing"
      ]
    },
    {
      "cell_type": "code",
      "execution_count": 19,
      "metadata": {
        "colab": {
          "base_uri": "https://localhost:8080/"
        },
        "id": "4Egtls1e62rB",
        "outputId": "4b65f49d-0763-4e83-ede3-4220c694e709"
      },
      "outputs": [
        {
          "data": {
            "text/plain": [
              "4"
            ]
          },
          "execution_count": 19,
          "metadata": {},
          "output_type": "execute_result"
        }
      ],
      "source": [
        "x1[3]"
      ]
    },
    {
      "cell_type": "code",
      "execution_count": 20,
      "metadata": {
        "colab": {
          "base_uri": "https://localhost:8080/"
        },
        "id": "219D9V9c7SE_",
        "outputId": "7d3d4d7b-156d-441b-94f1-e22d42279e4d"
      },
      "outputs": [
        {
          "data": {
            "text/plain": [
              "4"
            ]
          },
          "execution_count": 20,
          "metadata": {},
          "output_type": "execute_result"
        }
      ],
      "source": [
        "x1[-2]"
      ]
    },
    {
      "cell_type": "code",
      "execution_count": 21,
      "metadata": {
        "colab": {
          "base_uri": "https://localhost:8080/"
        },
        "id": "lGZc9osu7cTg",
        "outputId": "f439e0dc-32a8-4fdb-e9d6-23d801e71587"
      },
      "outputs": [
        {
          "data": {
            "text/plain": [
              "[1, 2, 3, 4, 5]"
            ]
          },
          "execution_count": 21,
          "metadata": {},
          "output_type": "execute_result"
        }
      ],
      "source": [
        "x1[:]"
      ]
    },
    {
      "cell_type": "code",
      "execution_count": 22,
      "metadata": {
        "colab": {
          "base_uri": "https://localhost:8080/"
        },
        "id": "uvqzZdji7no8",
        "outputId": "3c575a49-47e9-449b-df6c-51194d562970"
      },
      "outputs": [
        {
          "data": {
            "text/plain": [
              "[3, 4, 5]"
            ]
          },
          "execution_count": 22,
          "metadata": {},
          "output_type": "execute_result"
        }
      ],
      "source": [
        "x1[2:]    ## start from 2 and end at last"
      ]
    },
    {
      "cell_type": "code",
      "execution_count": 23,
      "metadata": {
        "colab": {
          "base_uri": "https://localhost:8080/"
        },
        "id": "etHsqJp279Sa",
        "outputId": "c9807f22-fb90-4f82-9d7d-1928c4541d32"
      },
      "outputs": [
        {
          "data": {
            "text/plain": [
              "[1, 2, 3, 4]"
            ]
          },
          "execution_count": 23,
          "metadata": {},
          "output_type": "execute_result"
        }
      ],
      "source": [
        "x1[:4]    ## start from 0 and end at 3"
      ]
    },
    {
      "cell_type": "code",
      "execution_count": 24,
      "metadata": {
        "colab": {
          "base_uri": "https://localhost:8080/"
        },
        "id": "7BitIvX18GDn",
        "outputId": "a8934bae-1351-4c02-8a9d-dcf2187f2673"
      },
      "outputs": [
        {
          "data": {
            "text/plain": [
              "[3, 4]"
            ]
          },
          "execution_count": 24,
          "metadata": {},
          "output_type": "execute_result"
        }
      ],
      "source": [
        "x1[2:4]    ## start from 2 and end at 3"
      ]
    },
    {
      "cell_type": "code",
      "execution_count": 25,
      "metadata": {
        "colab": {
          "base_uri": "https://localhost:8080/"
        },
        "id": "Ifw3N11j8LgF",
        "outputId": "59526306-91cc-4f66-d97b-19dd6ecc6bfc"
      },
      "outputs": [
        {
          "data": {
            "text/plain": [
              "[3]"
            ]
          },
          "execution_count": 25,
          "metadata": {},
          "output_type": "execute_result"
        }
      ],
      "source": [
        "x1[2:3]  ## start from 2 and end at 2"
      ]
    },
    {
      "cell_type": "code",
      "execution_count": 26,
      "metadata": {
        "id": "FSzaV06a8QK8"
      },
      "outputs": [],
      "source": [
        "x2 = [1,2,3,4,5,6,7,8,9,10]"
      ]
    },
    {
      "cell_type": "code",
      "execution_count": 57,
      "metadata": {
        "colab": {
          "base_uri": "https://localhost:8080/"
        },
        "id": "jPEcH30T8tGm",
        "outputId": "961ad9f5-e98f-41fb-b8c2-cdd88f4d7188"
      },
      "outputs": [
        {
          "data": {
            "text/plain": [
              "[3, 5, 7]"
            ]
          },
          "execution_count": 57,
          "metadata": {},
          "output_type": "execute_result"
        }
      ],
      "source": [
        "x2[2:7:2]    ## 3,5,7"
      ]
    },
    {
      "cell_type": "code",
      "execution_count": 28,
      "metadata": {
        "colab": {
          "base_uri": "https://localhost:8080/"
        },
        "id": "EYq0N7l98uUz",
        "outputId": "d14df125-6d45-4b2b-e82b-47ab1ffde278"
      },
      "outputs": [
        {
          "data": {
            "text/plain": [
              "[]"
            ]
          },
          "execution_count": 28,
          "metadata": {},
          "output_type": "execute_result"
        }
      ],
      "source": [
        "x2[-5:-8]    ## -5,-4,-3"
      ]
    },
    {
      "cell_type": "code",
      "execution_count": 29,
      "metadata": {
        "colab": {
          "base_uri": "https://localhost:8080/"
        },
        "id": "xnBQGa5H9I6y",
        "outputId": "96ce3ea5-2ef4-4018-85db-3efbadb65ee8"
      },
      "outputs": [
        {
          "data": {
            "text/plain": [
              "[3, 4, 5]"
            ]
          },
          "execution_count": 29,
          "metadata": {},
          "output_type": "execute_result"
        }
      ],
      "source": [
        "x2[-8:-5]  ## -8, -7, -6"
      ]
    },
    {
      "cell_type": "code",
      "execution_count": 59,
      "metadata": {
        "colab": {
          "base_uri": "https://localhost:8080/"
        },
        "id": "1q8msRv39Ylu",
        "outputId": "a145296f-0c68-4608-826e-1b0dcb06a460"
      },
      "outputs": [
        {
          "data": {
            "text/plain": [
              "[7, 6, 5]"
            ]
          },
          "execution_count": 59,
          "metadata": {},
          "output_type": "execute_result"
        }
      ],
      "source": [
        "x2[-5:-8:-1]"
      ]
    },
    {
      "cell_type": "code",
      "execution_count": 31,
      "metadata": {
        "id": "xCDxMjXWCxDr"
      },
      "outputs": [],
      "source": [
        "x2.append(30)"
      ]
    },
    {
      "cell_type": "code",
      "execution_count": 32,
      "metadata": {
        "colab": {
          "base_uri": "https://localhost:8080/"
        },
        "id": "sbhKJVhICz2V",
        "outputId": "56ffca43-df82-46bc-a29c-9928905cb9b9"
      },
      "outputs": [
        {
          "data": {
            "text/plain": [
              "[1, 2, 3, 4, 5, 6, 7, 8, 9, 10, 30]"
            ]
          },
          "execution_count": 32,
          "metadata": {},
          "output_type": "execute_result"
        }
      ],
      "source": [
        "x2"
      ]
    },
    {
      "cell_type": "code",
      "execution_count": 33,
      "metadata": {
        "id": "2_GT8WimBwub"
      },
      "outputs": [],
      "source": [
        "## Tuple"
      ]
    },
    {
      "cell_type": "code",
      "execution_count": 34,
      "metadata": {
        "colab": {
          "base_uri": "https://localhost:8080/"
        },
        "id": "-UMaokJeB0pP",
        "outputId": "4204073b-ef4d-4c03-941d-d339745e4a8b"
      },
      "outputs": [
        {
          "name": "stdout",
          "output_type": "stream",
          "text": [
            "(1, 2, 3, 4, 5, 6, 7, 8, 9, 10)\n",
            "<class 'tuple'>\n"
          ]
        }
      ],
      "source": [
        "x3 = (1,2,3,4,5,6,7,8,9,10)\n",
        "print(x3)\n",
        "print(type(x3))"
      ]
    },
    {
      "cell_type": "code",
      "execution_count": 35,
      "metadata": {
        "colab": {
          "base_uri": "https://localhost:8080/"
        },
        "id": "kKRXBvYmB8VR",
        "outputId": "0dfb477f-38d7-42ca-a8c6-b4d518bcd190"
      },
      "outputs": [
        {
          "data": {
            "text/plain": [
              "6"
            ]
          },
          "execution_count": 35,
          "metadata": {},
          "output_type": "execute_result"
        }
      ],
      "source": [
        "x3[5]"
      ]
    },
    {
      "cell_type": "code",
      "execution_count": 36,
      "metadata": {
        "id": "2eb9i8GUCPYA"
      },
      "outputs": [],
      "source": [
        "## dictionary"
      ]
    },
    {
      "cell_type": "code",
      "execution_count": 37,
      "metadata": {
        "id": "j8s9IjnUCXFd"
      },
      "outputs": [],
      "source": [
        "x4 = {\"name\":\"umang\",\"age\":33,\"marks\":{\"maths\":90,\"science\":80}}"
      ]
    },
    {
      "cell_type": "code",
      "execution_count": 38,
      "metadata": {
        "colab": {
          "base_uri": "https://localhost:8080/"
        },
        "id": "lGGzhPL6Cvbc",
        "outputId": "1dec153b-02df-42f9-869c-038cda42a30e"
      },
      "outputs": [
        {
          "name": "stdout",
          "output_type": "stream",
          "text": [
            "{'name': 'umang', 'age': 33, 'marks': {'maths': 90, 'science': 80}}\n"
          ]
        }
      ],
      "source": [
        "print(x4)"
      ]
    },
    {
      "cell_type": "code",
      "execution_count": 39,
      "metadata": {
        "colab": {
          "base_uri": "https://localhost:8080/"
        },
        "id": "Wsv4jI4oC9IV",
        "outputId": "87046e6c-0c76-419f-8541-4b22e8616aa2"
      },
      "outputs": [
        {
          "data": {
            "text/plain": [
              "dict"
            ]
          },
          "execution_count": 39,
          "metadata": {},
          "output_type": "execute_result"
        }
      ],
      "source": [
        "type(x4)"
      ]
    },
    {
      "cell_type": "code",
      "execution_count": 40,
      "metadata": {
        "colab": {
          "base_uri": "https://localhost:8080/",
          "height": 35
        },
        "id": "V8lPS148C-gN",
        "outputId": "22f51c2c-841f-43cf-bbf3-4da84a943cc6"
      },
      "outputs": [
        {
          "data": {
            "text/plain": [
              "'umang'"
            ]
          },
          "execution_count": 40,
          "metadata": {},
          "output_type": "execute_result"
        }
      ],
      "source": [
        "x4[\"name\"]"
      ]
    },
    {
      "cell_type": "code",
      "execution_count": 41,
      "metadata": {
        "colab": {
          "base_uri": "https://localhost:8080/"
        },
        "id": "psrsqpAFDDVO",
        "outputId": "c8194ec3-c66c-4205-91b3-53d59bb33471"
      },
      "outputs": [
        {
          "data": {
            "text/plain": [
              "33"
            ]
          },
          "execution_count": 41,
          "metadata": {},
          "output_type": "execute_result"
        }
      ],
      "source": [
        "x4[\"age\"]"
      ]
    },
    {
      "cell_type": "code",
      "execution_count": 42,
      "metadata": {
        "colab": {
          "base_uri": "https://localhost:8080/"
        },
        "id": "eETnsRliDJFL",
        "outputId": "5459339a-8243-4911-e2ca-4f090ae45279"
      },
      "outputs": [
        {
          "data": {
            "text/plain": [
              "90"
            ]
          },
          "execution_count": 42,
          "metadata": {},
          "output_type": "execute_result"
        }
      ],
      "source": [
        "x4[\"marks\"][\"maths\"]"
      ]
    },
    {
      "cell_type": "code",
      "execution_count": 43,
      "metadata": {
        "id": "5dl5w92fDXNd"
      },
      "outputs": [],
      "source": [
        "## Set"
      ]
    },
    {
      "cell_type": "code",
      "execution_count": 44,
      "metadata": {
        "colab": {
          "base_uri": "https://localhost:8080/"
        },
        "id": "V36eSY6QD7SG",
        "outputId": "76d86140-d4fc-42c6-818a-b818ea71792f"
      },
      "outputs": [
        {
          "name": "stdout",
          "output_type": "stream",
          "text": [
            "{3, 4, 5, 56, 76}\n"
          ]
        }
      ],
      "source": [
        "x5 = {3,4,56,76,5,5,5,5,5,4,4,4,4,4,3,3,3}\n",
        "print(x5)"
      ]
    },
    {
      "cell_type": "code",
      "execution_count": 45,
      "metadata": {
        "id": "EzisYXkDEBve"
      },
      "outputs": [],
      "source": [
        "## String functions"
      ]
    },
    {
      "cell_type": "code",
      "execution_count": 46,
      "metadata": {
        "id": "MM1QtQL2EH5S"
      },
      "outputs": [],
      "source": [
        "a1 = \"\"\"Python is a high-level, general-purpose programming language. Its design philosophy emphasizes code readability\n",
        "with the use of significant indentation. Python is dynamically typed and garbage-collected.\n",
        "It supports multiple programming paradigms, including structured, object-oriented and functional programming.\"\"\""
      ]
    },
    {
      "cell_type": "code",
      "execution_count": 47,
      "metadata": {
        "colab": {
          "base_uri": "https://localhost:8080/"
        },
        "id": "OyzzTUcDEhvv",
        "outputId": "20d65cff-3519-4056-bf7a-0eb6af550f7b"
      },
      "outputs": [
        {
          "name": "stdout",
          "output_type": "stream",
          "text": [
            "Python is a high-level, general-purpose programming language. Its design philosophy emphasizes code readability\n",
            "with the use of significant indentation. Python is dynamically typed and garbage-collected.\n",
            "It supports multiple programming paradigms, including structured, object-oriented and functional programming.\n"
          ]
        }
      ],
      "source": [
        "print(a1)"
      ]
    },
    {
      "cell_type": "code",
      "execution_count": 48,
      "metadata": {
        "colab": {
          "base_uri": "https://localhost:8080/",
          "height": 35
        },
        "id": "26LpULgMEiit",
        "outputId": "b0d905d0-57c0-41c1-fb0e-58678b822e84"
      },
      "outputs": [
        {
          "data": {
            "text/plain": [
              "'a high-level, general-purpose programmin'"
            ]
          },
          "execution_count": 48,
          "metadata": {},
          "output_type": "execute_result"
        }
      ],
      "source": [
        "a1[10:50]"
      ]
    },
    {
      "cell_type": "code",
      "execution_count": 49,
      "metadata": {
        "colab": {
          "base_uri": "https://localhost:8080/"
        },
        "id": "2Rm5H7tIEvRi",
        "outputId": "9c2df614-780a-4b92-92c0-4eefda2aa7e6"
      },
      "outputs": [
        {
          "name": "stdout",
          "output_type": "stream",
          "text": [
            "Python is a high-level, general-purpose programming language. Its design philosophy emphasizes code readability\n",
            "with the use of significant indentation. Python is dynamically typed and garbage-collected.\n",
            "It supports multiple programming paradigms, including structured, object-oriented and functional programming.\n",
            "\n",
            "Python is a high-level, general-purpose programming language. its design philosophy emphasizes code readability\n",
            "with the use of significant indentation. python is dynamically typed and garbage-collected.\n",
            "it supports multiple programming paradigms, including structured, object-oriented and functional programming.\n",
            "\n",
            "python is a high-level, general-purpose programming language. its design philosophy emphasizes code readability\n",
            "with the use of significant indentation. python is dynamically typed and garbage-collected.\n",
            "it supports multiple programming paradigms, including structured, object-oriented and functional programming.\n",
            "\n",
            "PYTHON IS A HIGH-LEVEL, GENERAL-PURPOSE PROGRAMMING LANGUAGE. ITS DESIGN PHILOSOPHY EMPHASIZES CODE READABILITY\n",
            "WITH THE USE OF SIGNIFICANT INDENTATION. PYTHON IS DYNAMICALLY TYPED AND GARBAGE-COLLECTED.\n",
            "IT SUPPORTS MULTIPLE PROGRAMMING PARADIGMS, INCLUDING STRUCTURED, OBJECT-ORIENTED AND FUNCTIONAL PROGRAMMING.\n",
            "\n",
            "Python Is A High-Level, General-Purpose Programming Language. Its Design Philosophy Emphasizes Code Readability\n",
            "With The Use Of Significant Indentation. Python Is Dynamically Typed And Garbage-Collected.\n",
            "It Supports Multiple Programming Paradigms, Including Structured, Object-Oriented And Functional Programming.\n",
            "\n",
            "pYTHON IS A HIGH-LEVEL, GENERAL-PURPOSE PROGRAMMING LANGUAGE. iTS DESIGN PHILOSOPHY EMPHASIZES CODE READABILITY\n",
            "WITH THE USE OF SIGNIFICANT INDENTATION. pYTHON IS DYNAMICALLY TYPED AND GARBAGE-COLLECTED.\n",
            "iT SUPPORTS MULTIPLE PROGRAMMING PARADIGMS, INCLUDING STRUCTURED, OBJECT-ORIENTED AND FUNCTIONAL PROGRAMMING.\n"
          ]
        }
      ],
      "source": [
        "print(a1)\n",
        "print()\n",
        "print(a1.capitalize())\n",
        "print()\n",
        "print(a1.lower())\n",
        "print()\n",
        "print(a1.upper())\n",
        "print()\n",
        "print(a1.title())\n",
        "print()\n",
        "print(a1.swapcase())"
      ]
    },
    {
      "cell_type": "code",
      "execution_count": 50,
      "metadata": {
        "colab": {
          "base_uri": "https://localhost:8080/"
        },
        "id": "3vDQptmCE7D6",
        "outputId": "f5b69e74-0a8d-4463-b509-39c9cdd135b8"
      },
      "outputs": [
        {
          "data": {
            "text/plain": [
              "21"
            ]
          },
          "execution_count": 50,
          "metadata": {},
          "output_type": "execute_result"
        }
      ],
      "source": [
        "a1.count(\"a\")"
      ]
    },
    {
      "cell_type": "code",
      "execution_count": 51,
      "metadata": {
        "colab": {
          "base_uri": "https://localhost:8080/"
        },
        "id": "XPjZFL1XGHMy",
        "outputId": "dc805334-b7e5-47be-b8c8-1da6e4ecef19"
      },
      "outputs": [
        {
          "data": {
            "text/plain": [
              "2"
            ]
          },
          "execution_count": 51,
          "metadata": {},
          "output_type": "execute_result"
        }
      ],
      "source": [
        "a1.count(\"Python\")"
      ]
    },
    {
      "cell_type": "code",
      "execution_count": 52,
      "metadata": {
        "colab": {
          "base_uri": "https://localhost:8080/",
          "height": 70
        },
        "id": "1GxjTrGJGJ9k",
        "outputId": "1212882e-f0f7-4e9d-f60b-3b2e4da30b7c"
      },
      "outputs": [
        {
          "data": {
            "text/plain": [
              "'Python is a high-level, general-purpose programming language. Its design philosophy emphasizes code readability\\nwith the use of significant indentation. Python is dynamically typed and garbage-collected.\\nIt supports multiple programming paradigms, including structured, object-oriented and functional programming.'"
            ]
          },
          "execution_count": 52,
          "metadata": {},
          "output_type": "execute_result"
        }
      ],
      "source": [
        "a1"
      ]
    },
    {
      "cell_type": "code",
      "execution_count": 53,
      "metadata": {
        "colab": {
          "base_uri": "https://localhost:8080/"
        },
        "id": "iP36MjElGNAK",
        "outputId": "f3173b5c-14b2-46cf-c11d-db504c45b7ec"
      },
      "outputs": [
        {
          "data": {
            "text/plain": [
              "40"
            ]
          },
          "execution_count": 53,
          "metadata": {},
          "output_type": "execute_result"
        }
      ],
      "source": [
        "a1.index(\"programming\")"
      ]
    },
    {
      "cell_type": "code",
      "execution_count": 54,
      "metadata": {
        "colab": {
          "base_uri": "https://localhost:8080/",
          "height": 35
        },
        "id": "xt9jKFK5GT70",
        "outputId": "2b271424-372e-42f9-e51a-340cfbcc3765"
      },
      "outputs": [
        {
          "data": {
            "text/plain": [
              "'p'"
            ]
          },
          "execution_count": 54,
          "metadata": {},
          "output_type": "execute_result"
        }
      ],
      "source": [
        "a1[40]"
      ]
    },
    {
      "cell_type": "code",
      "execution_count": 55,
      "metadata": {
        "colab": {
          "base_uri": "https://localhost:8080/",
          "height": 176
        },
        "id": "y37aOk2DGWxq",
        "outputId": "2848e353-31eb-4f16-f74d-91d062ff5bfc"
      },
      "outputs": [
        {
          "ename": "ValueError",
          "evalue": "substring not found",
          "output_type": "error",
          "traceback": [
            "\u001b[0;31m---------------------------------------------------------------------------\u001b[0m",
            "\u001b[0;31mValueError\u001b[0m                                Traceback (most recent call last)",
            "Cell \u001b[0;32mIn[55], line 1\u001b[0m\n\u001b[0;32m----> 1\u001b[0m \u001b[43ma1\u001b[49m\u001b[38;5;241;43m.\u001b[39;49m\u001b[43mindex\u001b[49m\u001b[43m(\u001b[49m\u001b[38;5;124;43m\"\u001b[39;49m\u001b[38;5;124;43mUmang\u001b[39;49m\u001b[38;5;124;43m\"\u001b[39;49m\u001b[43m)\u001b[49m\n",
            "\u001b[0;31mValueError\u001b[0m: substring not found"
          ]
        }
      ],
      "source": [
        "a1.index(\"Umang\")"
      ]
    },
    {
      "cell_type": "code",
      "execution_count": null,
      "metadata": {
        "colab": {
          "base_uri": "https://localhost:8080/"
        },
        "id": "RDgh9zjVGeNe",
        "outputId": "f0cacfb2-ff1c-4ae5-e796-6228634310c6"
      },
      "outputs": [
        {
          "data": {
            "text/plain": [
              "40"
            ]
          },
          "execution_count": 72,
          "metadata": {},
          "output_type": "execute_result"
        }
      ],
      "source": [
        "a1.find(\"programming\")"
      ]
    },
    {
      "cell_type": "code",
      "execution_count": null,
      "metadata": {
        "colab": {
          "base_uri": "https://localhost:8080/"
        },
        "id": "yT_aFUuQGheX",
        "outputId": "45f9a321-7ba8-4831-d371-c916851e5c6b"
      },
      "outputs": [
        {
          "data": {
            "text/plain": [
              "-1"
            ]
          },
          "execution_count": 73,
          "metadata": {},
          "output_type": "execute_result"
        }
      ],
      "source": [
        "a1.find(\"Umang\")"
      ]
    },
    {
      "cell_type": "code",
      "execution_count": null,
      "metadata": {
        "id": "mOLmZ2nEGkBg"
      },
      "outputs": [],
      "source": []
    }
  ],
  "metadata": {
    "colab": {
      "provenance": []
    },
    "kernelspec": {
      "display_name": "Python 3",
      "name": "python3"
    },
    "language_info": {
      "codemirror_mode": {
        "name": "ipython",
        "version": 3
      },
      "file_extension": ".py",
      "mimetype": "text/x-python",
      "name": "python",
      "nbconvert_exporter": "python",
      "pygments_lexer": "ipython3",
      "version": "3.10.13"
    }
  },
  "nbformat": 4,
  "nbformat_minor": 0
}
