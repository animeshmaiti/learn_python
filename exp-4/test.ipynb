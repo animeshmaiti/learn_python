{
 "cells": [
  {
   "cell_type": "code",
   "execution_count": 1,
   "metadata": {},
   "outputs": [
    {
     "name": "stdout",
     "output_type": "stream",
     "text": [
      "Initial Cart:\n",
      "{'Laptop': 2, 'Mouse': 3}\n",
      "Total Cost: 2060\n",
      "\n",
      "After removing one laptop:\n",
      "{'Laptop': 1, 'Mouse': 3}\n",
      "Total Cost: 1060\n",
      "\n",
      "After applying 10% discount:\n",
      "{'Laptop': 1, 'Mouse': 3}\n",
      "Total Cost: 954.0\n"
     ]
    }
   ],
   "source": [
    "class Product:\n",
    "    def __init__(self, product_id, name, price, quantity):\n",
    "        self.product_id = product_id\n",
    "        self.name = name\n",
    "        self.price = price\n",
    "        self.quantity = quantity\n",
    "\n",
    "class ShoppingCart:\n",
    "    def __init__(self):\n",
    "        self.cart = {}\n",
    "\n",
    "    def add_product(self, product, quantity):\n",
    "        if product.product_id in self.cart:\n",
    "            self.cart[product.product_id]['quantity'] += quantity\n",
    "        else:\n",
    "            self.cart[product.product_id] = {'product': product, 'quantity': quantity}\n",
    "\n",
    "    def remove_product(self, product_id, quantity):\n",
    "        if product_id in self.cart:\n",
    "            if self.cart[product_id]['quantity'] <= quantity:\n",
    "                del self.cart[product_id]\n",
    "            else:\n",
    "                self.cart[product_id]['quantity'] -= quantity\n",
    "\n",
    "    def view_cart(self):\n",
    "        cart_info = {}\n",
    "        for item in self.cart.values():\n",
    "            cart_info[item['product'].name] = item['quantity']\n",
    "        return cart_info\n",
    "\n",
    "    def calculate_total(self):\n",
    "        total_cost = 0\n",
    "        for item in self.cart.values():\n",
    "            total_cost += item['product'].price * item['quantity']\n",
    "        return total_cost\n",
    "\n",
    "    def apply_discount(self, discount):\n",
    "        for item in self.cart.values():\n",
    "            item['product'].price -= item['product'].price * discount\n",
    "\n",
    "# Example usage:\n",
    "product1 = Product(1, 'Laptop', 1000, 5)\n",
    "product2 = Product(2, 'Mouse', 20, 10)\n",
    "\n",
    "cart = ShoppingCart()\n",
    "cart.add_product(product1, 2)\n",
    "cart.add_product(product2, 3)\n",
    "\n",
    "print(\"Initial Cart:\")\n",
    "print(cart.view_cart())\n",
    "print(\"Total Cost:\", cart.calculate_total())\n",
    "\n",
    "cart.remove_product(1, 1)\n",
    "print(\"\\nAfter removing one laptop:\")\n",
    "print(cart.view_cart())\n",
    "print(\"Total Cost:\", cart.calculate_total())\n",
    "\n",
    "cart.apply_discount(0.1)  # Applying 10% discount\n",
    "print(\"\\nAfter applying 10% discount:\")\n",
    "print(cart.view_cart())\n",
    "print(\"Total Cost:\", cart.calculate_total())\n"
   ]
  }
 ],
 "metadata": {
  "kernelspec": {
   "display_name": "base",
   "language": "python",
   "name": "python3"
  },
  "language_info": {
   "codemirror_mode": {
    "name": "ipython",
    "version": 3
   },
   "file_extension": ".py",
   "mimetype": "text/x-python",
   "name": "python",
   "nbconvert_exporter": "python",
   "pygments_lexer": "ipython3",
   "version": "3.10.13"
  }
 },
 "nbformat": 4,
 "nbformat_minor": 2
}
