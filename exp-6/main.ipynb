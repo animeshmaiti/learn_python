{
 "cells": [
  {
   "cell_type": "code",
   "execution_count": 1,
   "metadata": {},
   "outputs": [],
   "source": [
    "import pandas as pd"
   ]
  },
  {
   "cell_type": "markdown",
   "metadata": {},
   "source": [
    "### Import the dataset 'Salaries.csv'."
   ]
  },
  {
   "cell_type": "code",
   "execution_count": 4,
   "metadata": {},
   "outputs": [],
   "source": [
    "df = pd.read_csv('Salaries.csv')"
   ]
  },
  {
   "cell_type": "code",
   "execution_count": 2,
   "metadata": {},
   "outputs": [],
   "source": [
    "df=pd.read_excel(\"Salaries.xlsx\")"
   ]
  },
  {
   "cell_type": "markdown",
   "metadata": {},
   "source": [
    "### Display how many rows and how many columns."
   ]
  },
  {
   "cell_type": "code",
   "execution_count": 3,
   "metadata": {},
   "outputs": [
    {
     "data": {
      "text/plain": [
       "(78, 6)"
      ]
     },
     "execution_count": 3,
     "metadata": {},
     "output_type": "execute_result"
    }
   ],
   "source": [
    "df.shape"
   ]
  },
  {
   "cell_type": "markdown",
   "metadata": {},
   "source": [
    "###  Display first 10 rows and last 15 rows."
   ]
  },
  {
   "cell_type": "code",
   "execution_count": 4,
   "metadata": {},
   "outputs": [
    {
     "data": {
      "text/html": [
       "<div>\n",
       "<style scoped>\n",
       "    .dataframe tbody tr th:only-of-type {\n",
       "        vertical-align: middle;\n",
       "    }\n",
       "\n",
       "    .dataframe tbody tr th {\n",
       "        vertical-align: top;\n",
       "    }\n",
       "\n",
       "    .dataframe thead th {\n",
       "        text-align: right;\n",
       "    }\n",
       "</style>\n",
       "<table border=\"1\" class=\"dataframe\">\n",
       "  <thead>\n",
       "    <tr style=\"text-align: right;\">\n",
       "      <th></th>\n",
       "      <th>rank</th>\n",
       "      <th>discipline</th>\n",
       "      <th>phd</th>\n",
       "      <th>service</th>\n",
       "      <th>sex</th>\n",
       "      <th>salary</th>\n",
       "    </tr>\n",
       "  </thead>\n",
       "  <tbody>\n",
       "    <tr>\n",
       "      <th>0</th>\n",
       "      <td>Prof</td>\n",
       "      <td>B</td>\n",
       "      <td>56.0</td>\n",
       "      <td>49</td>\n",
       "      <td>Male</td>\n",
       "      <td>186960.0</td>\n",
       "    </tr>\n",
       "    <tr>\n",
       "      <th>1</th>\n",
       "      <td>Prof</td>\n",
       "      <td>A</td>\n",
       "      <td>12.0</td>\n",
       "      <td>6</td>\n",
       "      <td>Male</td>\n",
       "      <td>93000.0</td>\n",
       "    </tr>\n",
       "    <tr>\n",
       "      <th>2</th>\n",
       "      <td>Prof</td>\n",
       "      <td>A</td>\n",
       "      <td>23.0</td>\n",
       "      <td>20</td>\n",
       "      <td>Male</td>\n",
       "      <td>110515.0</td>\n",
       "    </tr>\n",
       "    <tr>\n",
       "      <th>3</th>\n",
       "      <td>Prof</td>\n",
       "      <td>A</td>\n",
       "      <td>40.0</td>\n",
       "      <td>31</td>\n",
       "      <td>Male</td>\n",
       "      <td>131205.0</td>\n",
       "    </tr>\n",
       "    <tr>\n",
       "      <th>4</th>\n",
       "      <td>Prof</td>\n",
       "      <td>B</td>\n",
       "      <td>20.0</td>\n",
       "      <td>18</td>\n",
       "      <td>Male</td>\n",
       "      <td>104800.0</td>\n",
       "    </tr>\n",
       "    <tr>\n",
       "      <th>5</th>\n",
       "      <td>Prof</td>\n",
       "      <td>A</td>\n",
       "      <td>20.0</td>\n",
       "      <td>20</td>\n",
       "      <td>Male</td>\n",
       "      <td>122400.0</td>\n",
       "    </tr>\n",
       "    <tr>\n",
       "      <th>6</th>\n",
       "      <td>AssocProf</td>\n",
       "      <td>A</td>\n",
       "      <td>20.0</td>\n",
       "      <td>17</td>\n",
       "      <td>Male</td>\n",
       "      <td>81285.0</td>\n",
       "    </tr>\n",
       "    <tr>\n",
       "      <th>7</th>\n",
       "      <td>Prof</td>\n",
       "      <td>A</td>\n",
       "      <td>18.0</td>\n",
       "      <td>18</td>\n",
       "      <td>Male</td>\n",
       "      <td>NaN</td>\n",
       "    </tr>\n",
       "    <tr>\n",
       "      <th>8</th>\n",
       "      <td>Prof</td>\n",
       "      <td>A</td>\n",
       "      <td>29.0</td>\n",
       "      <td>19</td>\n",
       "      <td>Male</td>\n",
       "      <td>94350.0</td>\n",
       "    </tr>\n",
       "    <tr>\n",
       "      <th>9</th>\n",
       "      <td>Prof</td>\n",
       "      <td>A</td>\n",
       "      <td>51.0</td>\n",
       "      <td>51</td>\n",
       "      <td>Male</td>\n",
       "      <td>57800.0</td>\n",
       "    </tr>\n",
       "  </tbody>\n",
       "</table>\n",
       "</div>"
      ],
      "text/plain": [
       "        rank discipline   phd  service   sex    salary\n",
       "0       Prof          B  56.0       49  Male  186960.0\n",
       "1       Prof          A  12.0        6  Male   93000.0\n",
       "2       Prof          A  23.0       20  Male  110515.0\n",
       "3       Prof          A  40.0       31  Male  131205.0\n",
       "4       Prof          B  20.0       18  Male  104800.0\n",
       "5       Prof          A  20.0       20  Male  122400.0\n",
       "6  AssocProf          A  20.0       17  Male   81285.0\n",
       "7       Prof          A  18.0       18  Male       NaN\n",
       "8       Prof          A  29.0       19  Male   94350.0\n",
       "9       Prof          A  51.0       51  Male   57800.0"
      ]
     },
     "execution_count": 4,
     "metadata": {},
     "output_type": "execute_result"
    }
   ],
   "source": [
    "df.head(10)"
   ]
  },
  {
   "cell_type": "code",
   "execution_count": 5,
   "metadata": {},
   "outputs": [
    {
     "data": {
      "text/html": [
       "<div>\n",
       "<style scoped>\n",
       "    .dataframe tbody tr th:only-of-type {\n",
       "        vertical-align: middle;\n",
       "    }\n",
       "\n",
       "    .dataframe tbody tr th {\n",
       "        vertical-align: top;\n",
       "    }\n",
       "\n",
       "    .dataframe thead th {\n",
       "        text-align: right;\n",
       "    }\n",
       "</style>\n",
       "<table border=\"1\" class=\"dataframe\">\n",
       "  <thead>\n",
       "    <tr style=\"text-align: right;\">\n",
       "      <th></th>\n",
       "      <th>rank</th>\n",
       "      <th>discipline</th>\n",
       "      <th>phd</th>\n",
       "      <th>service</th>\n",
       "      <th>sex</th>\n",
       "      <th>salary</th>\n",
       "    </tr>\n",
       "  </thead>\n",
       "  <tbody>\n",
       "    <tr>\n",
       "      <th>63</th>\n",
       "      <td>Prof</td>\n",
       "      <td>A</td>\n",
       "      <td>29.0</td>\n",
       "      <td>27</td>\n",
       "      <td>Female</td>\n",
       "      <td>91000.0</td>\n",
       "    </tr>\n",
       "    <tr>\n",
       "      <th>64</th>\n",
       "      <td>AssocProf</td>\n",
       "      <td>A</td>\n",
       "      <td>26.0</td>\n",
       "      <td>24</td>\n",
       "      <td>Female</td>\n",
       "      <td>73300.0</td>\n",
       "    </tr>\n",
       "    <tr>\n",
       "      <th>65</th>\n",
       "      <td>Prof</td>\n",
       "      <td>A</td>\n",
       "      <td>36.0</td>\n",
       "      <td>19</td>\n",
       "      <td>Female</td>\n",
       "      <td>117555.0</td>\n",
       "    </tr>\n",
       "    <tr>\n",
       "      <th>66</th>\n",
       "      <td>AsstProf</td>\n",
       "      <td>A</td>\n",
       "      <td>7.0</td>\n",
       "      <td>6</td>\n",
       "      <td>Female</td>\n",
       "      <td>63100.0</td>\n",
       "    </tr>\n",
       "    <tr>\n",
       "      <th>67</th>\n",
       "      <td>Prof</td>\n",
       "      <td>A</td>\n",
       "      <td>17.0</td>\n",
       "      <td>11</td>\n",
       "      <td>Female</td>\n",
       "      <td>90450.0</td>\n",
       "    </tr>\n",
       "    <tr>\n",
       "      <th>68</th>\n",
       "      <td>AsstProf</td>\n",
       "      <td>A</td>\n",
       "      <td>4.0</td>\n",
       "      <td>2</td>\n",
       "      <td>Female</td>\n",
       "      <td>77500.0</td>\n",
       "    </tr>\n",
       "    <tr>\n",
       "      <th>69</th>\n",
       "      <td>Prof</td>\n",
       "      <td>A</td>\n",
       "      <td>28.0</td>\n",
       "      <td>7</td>\n",
       "      <td>Female</td>\n",
       "      <td>116450.0</td>\n",
       "    </tr>\n",
       "    <tr>\n",
       "      <th>70</th>\n",
       "      <td>AsstProf</td>\n",
       "      <td>A</td>\n",
       "      <td>8.0</td>\n",
       "      <td>3</td>\n",
       "      <td>Female</td>\n",
       "      <td>78500.0</td>\n",
       "    </tr>\n",
       "    <tr>\n",
       "      <th>71</th>\n",
       "      <td>AssocProf</td>\n",
       "      <td>B</td>\n",
       "      <td>12.0</td>\n",
       "      <td>9</td>\n",
       "      <td>Female</td>\n",
       "      <td>71065.0</td>\n",
       "    </tr>\n",
       "    <tr>\n",
       "      <th>72</th>\n",
       "      <td>Prof</td>\n",
       "      <td>B</td>\n",
       "      <td>24.0</td>\n",
       "      <td>15</td>\n",
       "      <td>Female</td>\n",
       "      <td>161101.0</td>\n",
       "    </tr>\n",
       "    <tr>\n",
       "      <th>73</th>\n",
       "      <td>Prof</td>\n",
       "      <td>B</td>\n",
       "      <td>18.0</td>\n",
       "      <td>10</td>\n",
       "      <td>Female</td>\n",
       "      <td>105450.0</td>\n",
       "    </tr>\n",
       "    <tr>\n",
       "      <th>74</th>\n",
       "      <td>AssocProf</td>\n",
       "      <td>B</td>\n",
       "      <td>19.0</td>\n",
       "      <td>6</td>\n",
       "      <td>Female</td>\n",
       "      <td>104542.0</td>\n",
       "    </tr>\n",
       "    <tr>\n",
       "      <th>75</th>\n",
       "      <td>Prof</td>\n",
       "      <td>B</td>\n",
       "      <td>17.0</td>\n",
       "      <td>17</td>\n",
       "      <td>Female</td>\n",
       "      <td>124312.0</td>\n",
       "    </tr>\n",
       "    <tr>\n",
       "      <th>76</th>\n",
       "      <td>Prof</td>\n",
       "      <td>A</td>\n",
       "      <td>28.0</td>\n",
       "      <td>14</td>\n",
       "      <td>Female</td>\n",
       "      <td>109954.0</td>\n",
       "    </tr>\n",
       "    <tr>\n",
       "      <th>77</th>\n",
       "      <td>Prof</td>\n",
       "      <td>A</td>\n",
       "      <td>23.0</td>\n",
       "      <td>15</td>\n",
       "      <td>Female</td>\n",
       "      <td>109646.0</td>\n",
       "    </tr>\n",
       "  </tbody>\n",
       "</table>\n",
       "</div>"
      ],
      "text/plain": [
       "         rank discipline   phd  service     sex    salary\n",
       "63       Prof          A  29.0       27  Female   91000.0\n",
       "64  AssocProf          A  26.0       24  Female   73300.0\n",
       "65       Prof          A  36.0       19  Female  117555.0\n",
       "66   AsstProf          A   7.0        6  Female   63100.0\n",
       "67       Prof          A  17.0       11  Female   90450.0\n",
       "68   AsstProf          A   4.0        2  Female   77500.0\n",
       "69       Prof          A  28.0        7  Female  116450.0\n",
       "70   AsstProf          A   8.0        3  Female   78500.0\n",
       "71  AssocProf          B  12.0        9  Female   71065.0\n",
       "72       Prof          B  24.0       15  Female  161101.0\n",
       "73       Prof          B  18.0       10  Female  105450.0\n",
       "74  AssocProf          B  19.0        6  Female  104542.0\n",
       "75       Prof          B  17.0       17  Female  124312.0\n",
       "76       Prof          A  28.0       14  Female  109954.0\n",
       "77       Prof          A  23.0       15  Female  109646.0"
      ]
     },
     "execution_count": 5,
     "metadata": {},
     "output_type": "execute_result"
    }
   ],
   "source": [
    "df.tail(15)"
   ]
  },
  {
   "cell_type": "markdown",
   "metadata": {},
   "source": [
    "### Which Male and Female Professor has the highest and the lowest salaries?"
   ]
  },
  {
   "cell_type": "code",
   "execution_count": 6,
   "metadata": {},
   "outputs": [
    {
     "data": {
      "text/plain": [
       "186960.0"
      ]
     },
     "execution_count": 6,
     "metadata": {},
     "output_type": "execute_result"
    }
   ],
   "source": [
    "male = df.loc[df['sex']=='Male']\n",
    "male['salary'].max()"
   ]
  },
  {
   "cell_type": "code",
   "execution_count": 7,
   "metadata": {},
   "outputs": [
    {
     "data": {
      "text/plain": [
       "161101.0"
      ]
     },
     "execution_count": 7,
     "metadata": {},
     "output_type": "execute_result"
    }
   ],
   "source": [
    "female = df.loc[df['sex']=='Female']\n",
    "female['salary'].max()"
   ]
  },
  {
   "cell_type": "markdown",
   "metadata": {},
   "source": [
    "### Which Professor takes the highest and lowest salaries?"
   ]
  },
  {
   "cell_type": "code",
   "execution_count": 31,
   "metadata": {},
   "outputs": [
    {
     "data": {
      "text/plain": [
       "0    Prof\n",
       "Name: rank, dtype: object"
      ]
     },
     "execution_count": 31,
     "metadata": {},
     "output_type": "execute_result"
    }
   ],
   "source": [
    "max_salary=df['salary'].max()\n",
    "max_sal_rank=df.loc[df['salary']==max_salary]\n",
    "max_sal_rank['rank']"
   ]
  },
  {
   "cell_type": "markdown",
   "metadata": {},
   "source": [
    "### Missing 'Salaries' - should be replaced as mean of the matching salaries of those whose 'service' is the same"
   ]
  },
  {
   "cell_type": "code",
   "execution_count": 9,
   "metadata": {},
   "outputs": [
    {
     "data": {
      "text/html": [
       "<div>\n",
       "<style scoped>\n",
       "    .dataframe tbody tr th:only-of-type {\n",
       "        vertical-align: middle;\n",
       "    }\n",
       "\n",
       "    .dataframe tbody tr th {\n",
       "        vertical-align: top;\n",
       "    }\n",
       "\n",
       "    .dataframe thead th {\n",
       "        text-align: right;\n",
       "    }\n",
       "</style>\n",
       "<table border=\"1\" class=\"dataframe\">\n",
       "  <thead>\n",
       "    <tr style=\"text-align: right;\">\n",
       "      <th></th>\n",
       "      <th>rank</th>\n",
       "      <th>discipline</th>\n",
       "      <th>phd</th>\n",
       "      <th>service</th>\n",
       "      <th>sex</th>\n",
       "      <th>salary</th>\n",
       "    </tr>\n",
       "  </thead>\n",
       "  <tbody>\n",
       "    <tr>\n",
       "      <th>0</th>\n",
       "      <td>Prof</td>\n",
       "      <td>B</td>\n",
       "      <td>56.0</td>\n",
       "      <td>49</td>\n",
       "      <td>Male</td>\n",
       "      <td>186960.0</td>\n",
       "    </tr>\n",
       "    <tr>\n",
       "      <th>1</th>\n",
       "      <td>Prof</td>\n",
       "      <td>A</td>\n",
       "      <td>12.0</td>\n",
       "      <td>6</td>\n",
       "      <td>Male</td>\n",
       "      <td>93000.0</td>\n",
       "    </tr>\n",
       "    <tr>\n",
       "      <th>2</th>\n",
       "      <td>Prof</td>\n",
       "      <td>A</td>\n",
       "      <td>23.0</td>\n",
       "      <td>20</td>\n",
       "      <td>Male</td>\n",
       "      <td>110515.0</td>\n",
       "    </tr>\n",
       "    <tr>\n",
       "      <th>3</th>\n",
       "      <td>Prof</td>\n",
       "      <td>A</td>\n",
       "      <td>40.0</td>\n",
       "      <td>31</td>\n",
       "      <td>Male</td>\n",
       "      <td>131205.0</td>\n",
       "    </tr>\n",
       "    <tr>\n",
       "      <th>4</th>\n",
       "      <td>Prof</td>\n",
       "      <td>B</td>\n",
       "      <td>20.0</td>\n",
       "      <td>18</td>\n",
       "      <td>Male</td>\n",
       "      <td>104800.0</td>\n",
       "    </tr>\n",
       "  </tbody>\n",
       "</table>\n",
       "</div>"
      ],
      "text/plain": [
       "   rank discipline   phd  service   sex    salary\n",
       "0  Prof          B  56.0       49  Male  186960.0\n",
       "1  Prof          A  12.0        6  Male   93000.0\n",
       "2  Prof          A  23.0       20  Male  110515.0\n",
       "3  Prof          A  40.0       31  Male  131205.0\n",
       "4  Prof          B  20.0       18  Male  104800.0"
      ]
     },
     "execution_count": 9,
     "metadata": {},
     "output_type": "execute_result"
    }
   ],
   "source": [
    "df['salary'].fillna(df.groupby('service')['salary'].transform('mean'), inplace=True)\n",
    "df.head()"
   ]
  },
  {
   "cell_type": "markdown",
   "metadata": {},
   "source": [
    "### Missing 'phd' - should be replaced as mean of the matching 'service'"
   ]
  },
  {
   "cell_type": "code",
   "execution_count": null,
   "metadata": {},
   "outputs": [],
   "source": [
    "df['phd'].fillna(df.groupby('service')['phd'].transform('mean'), inplace=True)"
   ]
  },
  {
   "cell_type": "markdown",
   "metadata": {},
   "source": [
    "### How many are Male Staff and how many are Female Staff"
   ]
  },
  {
   "cell_type": "code",
   "execution_count": 12,
   "metadata": {},
   "outputs": [
    {
     "name": "stdout",
     "output_type": "stream",
     "text": [
      "Male:  39\n",
      "Female:  39\n"
     ]
    }
   ],
   "source": [
    "male = df['sex'].value_counts()['Male']\n",
    "female = df['sex'].value_counts()['Female']\n",
    "print(\"Male: \",male)\n",
    "print(\"Female: \",female)"
   ]
  },
  {
   "cell_type": "markdown",
   "metadata": {},
   "source": [
    "### How many are Prof, AssocProf and AsstProf"
   ]
  },
  {
   "cell_type": "code",
   "execution_count": 14,
   "metadata": {},
   "outputs": [
    {
     "name": "stdout",
     "output_type": "stream",
     "text": [
      "Prof:  46\n",
      "AssocProf: 13\n",
      "AsstProf: 19\n"
     ]
    }
   ],
   "source": [
    "df[\"rank\"].unique()\n",
    "Prof=df[\"rank\"].value_counts()[\"Prof\"]\n",
    "AssocP = df[\"rank\"].value_counts()[\"AssocProf\"]\n",
    "AsstP = df[\"rank\"].value_counts()[\"AsstProf\"]\n",
    "print(\"Prof: \",Prof)\n",
    "print(\"AssocProf:\",AssocP)\n",
    "print(\"AsstProf:\",AsstP)"
   ]
  },
  {
   "cell_type": "markdown",
   "metadata": {},
   "source": [
    "### Who are the senior and junior most employees in the organization"
   ]
  },
  {
   "cell_type": "code",
   "execution_count": 18,
   "metadata": {},
   "outputs": [
    {
     "name": "stdout",
     "output_type": "stream",
     "text": [
      "   rank discipline   phd  service   sex   salary\n",
      "9  Prof          A  51.0       51  Male  57800.0\n",
      "        rank discipline   phd  service     sex    salary\n",
      "12  AsstProf          B   1.0        0    Male   88000.0\n",
      "17  AsstProf          B   4.0        0    Male   92000.0\n",
      "23  AsstProf          A   2.0        0    Male   85000.0\n",
      "43  AsstProf          B   5.0        0  Female   77000.0\n",
      "52      Prof          A  12.0        0  Female  105000.0\n",
      "55  AsstProf          A   2.0        0  Female   72500.0\n"
     ]
    }
   ],
   "source": [
    "senior_employee = df[df['service']==df['service'].max()]\n",
    "print(senior_employee)\n",
    "# Junior most employee\n",
    "junior_employee = df[df['service']==df['service'].min()]\n",
    "print(junior_employee)"
   ]
  }
 ],
 "metadata": {
  "kernelspec": {
   "display_name": "base",
   "language": "python",
   "name": "python3"
  },
  "language_info": {
   "codemirror_mode": {
    "name": "ipython",
    "version": 3
   },
   "file_extension": ".py",
   "mimetype": "text/x-python",
   "name": "python",
   "nbconvert_exporter": "python",
   "pygments_lexer": "ipython3",
   "version": "3.10.13"
  }
 },
 "nbformat": 4,
 "nbformat_minor": 2
}
