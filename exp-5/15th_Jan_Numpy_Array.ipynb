{
  "cells": [
    {
      "cell_type": "code",
      "execution_count": 19,
      "metadata": {
        "id": "1PHw1CVdlPwb"
      },
      "outputs": [],
      "source": [
        "import numpy as np"
      ]
    },
    {
      "cell_type": "code",
      "execution_count": 20,
      "metadata": {
        "id": "oUNFOmwxl_0y"
      },
      "outputs": [],
      "source": [
        "### create an array"
      ]
    },
    {
      "cell_type": "code",
      "execution_count": 21,
      "metadata": {
        "id": "El6Kq9YOmMj_"
      },
      "outputs": [],
      "source": [
        "a1 = np.array([1,2,3,4,5])   ## 1d array\n",
        "a2 = np.array([[1,2,3,4,5]])   ## 2d array\n",
        "a3 = np.array([[1,2,3,4,5],[1,2,3,4,5],[1,2,3,4,5]])   ## 2d array\n",
        "a4 = np.array([[[1,2,3,4,5],[1,2,3,4,5],[1,2,3,4,5]]])  ## 3d array\n",
        "a5 = np.array([[[1,2,3,4,5],[1,2,3,4,5],[1,2,3,4,5]],\n",
        "               [[1,2,3,4,5],[1,2,3,4,5],[1,2,3,4,5]]])  ## 3d array"
      ]
    },
    {
      "cell_type": "code",
      "execution_count": 22,
      "metadata": {
        "colab": {
          "base_uri": "https://localhost:8080/"
        },
        "id": "nzV--g5bnJHl",
        "outputId": "5381677b-804f-4b9a-86ea-51c1da974693"
      },
      "outputs": [
        {
          "name": "stdout",
          "output_type": "stream",
          "text": [
            "5\n",
            "1\n",
            "3\n",
            "1\n",
            "2\n"
          ]
        }
      ],
      "source": [
        "print(len(a1))\n",
        "print(len(a2))\n",
        "print(len(a3))\n",
        "print(len(a4))\n",
        "print(len(a5))"
      ]
    },
    {
      "cell_type": "code",
      "execution_count": 23,
      "metadata": {
        "colab": {
          "base_uri": "https://localhost:8080/"
        },
        "id": "6lsIpScTndiB",
        "outputId": "58b2b844-b3dd-4f3a-bc73-dfe2300729b0"
      },
      "outputs": [
        {
          "name": "stdout",
          "output_type": "stream",
          "text": [
            "1\n",
            "2\n",
            "2\n",
            "3\n",
            "3\n"
          ]
        }
      ],
      "source": [
        "print(a1.ndim)\n",
        "print(a2.ndim)\n",
        "print(a3.ndim)\n",
        "print(a4.ndim)\n",
        "print(a5.ndim)"
      ]
    },
    {
      "cell_type": "code",
      "execution_count": 24,
      "metadata": {
        "colab": {
          "base_uri": "https://localhost:8080/"
        },
        "id": "XNSu6Sfsni-Y",
        "outputId": "0047650b-d313-4b8a-be24-2f72de782da2"
      },
      "outputs": [
        {
          "name": "stdout",
          "output_type": "stream",
          "text": [
            "int64\n",
            "int64\n",
            "int64\n",
            "int64\n",
            "int64\n"
          ]
        }
      ],
      "source": [
        "print(a1.dtype)\n",
        "print(a2.dtype)\n",
        "print(a3.dtype)\n",
        "print(a4.dtype)\n",
        "print(a5.dtype)"
      ]
    },
    {
      "cell_type": "code",
      "execution_count": 25,
      "metadata": {
        "colab": {
          "base_uri": "https://localhost:8080/"
        },
        "id": "PbUJmsCkqRTR",
        "outputId": "4f95e113-fa10-4a65-bed6-4f6dfac7b0ec"
      },
      "outputs": [
        {
          "data": {
            "text/plain": [
              "array([ 1. ,  2. ,  4.5,  4. , 22. , 44.3])"
            ]
          },
          "execution_count": 25,
          "metadata": {},
          "output_type": "execute_result"
        }
      ],
      "source": [
        "a6 = np.array([1,2,4.5,4,22,44.3])\n",
        "a6"
      ]
    },
    {
      "cell_type": "code",
      "execution_count": 26,
      "metadata": {
        "colab": {
          "base_uri": "https://localhost:8080/"
        },
        "id": "jl3CK7xzqjVJ",
        "outputId": "595f0d94-1a90-43bb-d889-abcf4a9ee5e2"
      },
      "outputs": [
        {
          "data": {
            "text/plain": [
              "dtype('float64')"
            ]
          },
          "execution_count": 26,
          "metadata": {},
          "output_type": "execute_result"
        }
      ],
      "source": [
        "a6.dtype"
      ]
    },
    {
      "cell_type": "code",
      "execution_count": 27,
      "metadata": {
        "colab": {
          "base_uri": "https://localhost:8080/"
        },
        "id": "jvOhEuToqnhF",
        "outputId": "7d71e18c-61ba-4b6b-d887-799f4ac6d814"
      },
      "outputs": [
        {
          "data": {
            "text/plain": [
              "array(['1', '2', '4.5', '4', '22', 'Umang'], dtype='<U32')"
            ]
          },
          "execution_count": 27,
          "metadata": {},
          "output_type": "execute_result"
        }
      ],
      "source": [
        "a7 = np.array([1,2,4.5,4,22,\"Umang\"])\n",
        "a7"
      ]
    },
    {
      "cell_type": "code",
      "execution_count": 28,
      "metadata": {
        "colab": {
          "base_uri": "https://localhost:8080/"
        },
        "id": "qkQG2cNoqwYa",
        "outputId": "19511fa7-bf0e-46fc-f06b-1cb65f241c21"
      },
      "outputs": [
        {
          "data": {
            "text/plain": [
              "dtype('<U32')"
            ]
          },
          "execution_count": 28,
          "metadata": {},
          "output_type": "execute_result"
        }
      ],
      "source": [
        "a7.dtype"
      ]
    },
    {
      "cell_type": "code",
      "execution_count": 29,
      "metadata": {
        "colab": {
          "base_uri": "https://localhost:8080/"
        },
        "id": "uTYiP7prqy_p",
        "outputId": "223f5a52-79d2-4f73-fdb8-e8ded1094d5f"
      },
      "outputs": [
        {
          "name": "stdout",
          "output_type": "stream",
          "text": [
            "5\n",
            "1\n",
            "3\n",
            "1\n",
            "2\n"
          ]
        }
      ],
      "source": [
        "print(len(a1))\n",
        "print(len(a2))\n",
        "print(len(a3))\n",
        "print(len(a4))\n",
        "print(len(a5))"
      ]
    },
    {
      "cell_type": "code",
      "execution_count": 30,
      "metadata": {
        "colab": {
          "base_uri": "https://localhost:8080/"
        },
        "id": "XqihpB4nq8fe",
        "outputId": "02b2170d-068c-4372-bdbb-14e14788c5f3"
      },
      "outputs": [
        {
          "name": "stdout",
          "output_type": "stream",
          "text": [
            "(5,)\n",
            "(1, 5)\n",
            "(3, 5)\n",
            "(1, 3, 5)\n",
            "(2, 3, 5)\n"
          ]
        }
      ],
      "source": [
        "print(a1.shape)\n",
        "print(a2.shape)\n",
        "print(a3.shape)\n",
        "print(a4.shape)\n",
        "print(a5.shape)"
      ]
    },
    {
      "cell_type": "code",
      "execution_count": 31,
      "metadata": {
        "id": "-Bcs_izXrAFb"
      },
      "outputs": [],
      "source": [
        "### random numbers"
      ]
    },
    {
      "cell_type": "code",
      "execution_count": 32,
      "metadata": {
        "colab": {
          "base_uri": "https://localhost:8080/"
        },
        "id": "TrsKUTvls9ZO",
        "outputId": "11b62555-fc3e-40e2-d3d5-3055bee69efe"
      },
      "outputs": [
        {
          "data": {
            "text/plain": [
              "79"
            ]
          },
          "execution_count": 32,
          "metadata": {},
          "output_type": "execute_result"
        }
      ],
      "source": [
        "r1 = np.random.randint(100)   ## one random number b/w 0 to 99\n",
        "r1"
      ]
    },
    {
      "cell_type": "code",
      "execution_count": 33,
      "metadata": {
        "colab": {
          "base_uri": "https://localhost:8080/"
        },
        "id": "eN3G7I0htMR3",
        "outputId": "7960cc74-f20b-492c-ef21-ea7edf6b2897"
      },
      "outputs": [
        {
          "data": {
            "text/plain": [
              "9"
            ]
          },
          "execution_count": 33,
          "metadata": {},
          "output_type": "execute_result"
        }
      ],
      "source": [
        "np.random.seed(10)\n",
        "r1 = np.random.randint(100)   ## one random number b/w 0 to 99\n",
        "r1"
      ]
    },
    {
      "cell_type": "code",
      "execution_count": 34,
      "metadata": {
        "colab": {
          "base_uri": "https://localhost:8080/"
        },
        "id": "3XHLdrNitmE0",
        "outputId": "ccf96015-c81a-4c5c-c8be-78a3f7a20cb7"
      },
      "outputs": [
        {
          "data": {
            "text/plain": [
              "8"
            ]
          },
          "execution_count": 34,
          "metadata": {},
          "output_type": "execute_result"
        }
      ],
      "source": [
        "np.random.seed(100)\n",
        "r1 = np.random.randint(100)   ## one random number b/w 0 to 99\n",
        "r1"
      ]
    },
    {
      "cell_type": "code",
      "execution_count": 35,
      "metadata": {
        "colab": {
          "base_uri": "https://localhost:8080/"
        },
        "id": "_LcIqrdZtnQp",
        "outputId": "8d32cef1-5f0f-42a3-8acf-f1914e5e99bf"
      },
      "outputs": [
        {
          "data": {
            "text/plain": [
              "380"
            ]
          },
          "execution_count": 35,
          "metadata": {},
          "output_type": "execute_result"
        }
      ],
      "source": [
        "r1 = np.random.randint(100,500)   ## one random number b/w 100 to 499\n",
        "r1"
      ]
    },
    {
      "cell_type": "code",
      "execution_count": 36,
      "metadata": {
        "id": "hfXU3EBot70-"
      },
      "outputs": [
        {
          "data": {
            "text/plain": [
              "array([423, 459, 443, 179, 494, 450, 454, 153, 166, 326])"
            ]
          },
          "execution_count": 36,
          "metadata": {},
          "output_type": "execute_result"
        }
      ],
      "source": [
        "r1 = np.random.randint(100,500,10)   ## 10 random number b/w 100 to 499\n",
        "r1"
      ]
    },
    {
      "cell_type": "code",
      "execution_count": 37,
      "metadata": {
        "id": "TZ5PqaN9uAFO"
      },
      "outputs": [
        {
          "data": {
            "text/plain": [
              "array([[114, 390, 340, 380, 243, 328, 463, 416],\n",
              "       [158, 237, 193, 186, 486, 255, 464, 488],\n",
              "       [485, 241, 345, 311, 200, 104, 191, 423],\n",
              "       [235, 149, 293, 417, 370, 283, 351, 436],\n",
              "       [102, 477, 205, 163, 281, 383, 412, 338],\n",
              "       [469, 403, 267, 465, 394, 272, 374, 292],\n",
              "       [302, 373, 172, 113, 206, 130, 117, 153],\n",
              "       [168, 447, 281, 434, 100, 113, 285, 462],\n",
              "       [231, 170, 231, 312, 307, 494, 315, 231],\n",
              "       [461, 276, 280, 399, 136, 361, 427, 138]])"
            ]
          },
          "execution_count": 37,
          "metadata": {},
          "output_type": "execute_result"
        }
      ],
      "source": [
        "r1 = np.random.randint(100,500,(10,8))   ## 10x8 random array b/w 100 to 499\n",
        "r1"
      ]
    },
    {
      "cell_type": "code",
      "execution_count": 38,
      "metadata": {
        "id": "as8XsHrFuH7d"
      },
      "outputs": [
        {
          "data": {
            "text/plain": [
              "array([[[314, 194],\n",
              "        [326, 270],\n",
              "        [440, 195],\n",
              "        [214, 337],\n",
              "        [219, 176],\n",
              "        [389, 414],\n",
              "        [202, 356],\n",
              "        [350, 283]],\n",
              "\n",
              "       [[326, 409],\n",
              "        [296, 406],\n",
              "        [353, 109],\n",
              "        [377, 362],\n",
              "        [265, 458],\n",
              "        [222, 216],\n",
              "        [286, 395],\n",
              "        [207, 322]],\n",
              "\n",
              "       [[407, 386],\n",
              "        [477, 166],\n",
              "        [343, 373],\n",
              "        [401, 189],\n",
              "        [391, 116],\n",
              "        [112, 442],\n",
              "        [209, 167],\n",
              "        [320, 323]],\n",
              "\n",
              "       [[376, 238],\n",
              "        [364, 300],\n",
              "        [496, 246],\n",
              "        [449, 475],\n",
              "        [192, 144],\n",
              "        [345, 157],\n",
              "        [483, 356],\n",
              "        [173, 332]],\n",
              "\n",
              "       [[282, 422],\n",
              "        [244, 489],\n",
              "        [446, 134],\n",
              "        [450, 282],\n",
              "        [177, 312],\n",
              "        [485, 114],\n",
              "        [471, 389],\n",
              "        [248, 268]],\n",
              "\n",
              "       [[124, 384],\n",
              "        [310, 235],\n",
              "        [102, 163],\n",
              "        [469, 230],\n",
              "        [315, 245],\n",
              "        [337, 318],\n",
              "        [350, 324],\n",
              "        [174, 386]],\n",
              "\n",
              "       [[167, 256],\n",
              "        [182, 494],\n",
              "        [241, 181],\n",
              "        [473, 381],\n",
              "        [294, 243],\n",
              "        [464, 222],\n",
              "        [111, 201],\n",
              "        [138, 472]],\n",
              "\n",
              "       [[378, 411],\n",
              "        [413, 187],\n",
              "        [279, 342],\n",
              "        [281, 245],\n",
              "        [293, 398],\n",
              "        [449, 272],\n",
              "        [244, 407],\n",
              "        [282, 283]],\n",
              "\n",
              "       [[183, 456],\n",
              "        [142, 348],\n",
              "        [346, 393],\n",
              "        [212, 308],\n",
              "        [213, 455],\n",
              "        [358, 418],\n",
              "        [455, 116],\n",
              "        [170, 409]],\n",
              "\n",
              "       [[324, 493],\n",
              "        [277, 409],\n",
              "        [467, 262],\n",
              "        [231, 458],\n",
              "        [239, 405],\n",
              "        [385, 392],\n",
              "        [449, 469],\n",
              "        [152, 264]]])"
            ]
          },
          "execution_count": 38,
          "metadata": {},
          "output_type": "execute_result"
        }
      ],
      "source": [
        "r1 = np.random.randint(100,500,(10,8,2))   ## 10x8x2 random array b/w 100 to 499\n",
        "r1"
      ]
    },
    {
      "cell_type": "code",
      "execution_count": 39,
      "metadata": {
        "colab": {
          "base_uri": "https://localhost:8080/"
        },
        "id": "Sjfqr8ieuNpx",
        "outputId": "2fe68f41-2253-4fd8-c836-f7bb83980fef"
      },
      "outputs": [
        {
          "data": {
            "text/plain": [
              "array([479.41968113, 208.08988431, 488.9616572 , 370.92698626,\n",
              "       423.91983969, 277.22769575, 143.69641158, 488.15696571,\n",
              "       255.39193491, 278.61559825])"
            ]
          },
          "execution_count": 39,
          "metadata": {},
          "output_type": "execute_result"
        }
      ],
      "source": [
        "r1 = np.random.uniform(100,500,10)   ## 10 random number b/w 100 to 499\n",
        "r1"
      ]
    },
    {
      "cell_type": "code",
      "execution_count": 40,
      "metadata": {
        "colab": {
          "base_uri": "https://localhost:8080/"
        },
        "id": "Z3aI7KVRuVzr",
        "outputId": "9dda8d1c-dc36-4bd7-a6cc-ab4dfac4bdd7"
      },
      "outputs": [
        {
          "data": {
            "text/plain": [
              "array([176.46, 456.46, 289.69, 184.95, 343.66, 307.08, 261.18, 229.21,\n",
              "       335.43, 255.51])"
            ]
          },
          "execution_count": 40,
          "metadata": {},
          "output_type": "execute_result"
        }
      ],
      "source": [
        "r1 = np.random.uniform(100,500,10)   ## 10 random number b/w 100 to 499\n",
        "r1 = np.round(r1,2)\n",
        "r1"
      ]
    },
    {
      "cell_type": "code",
      "execution_count": 41,
      "metadata": {
        "id": "qt2ngPU_ubjs"
      },
      "outputs": [],
      "source": [
        "## array indexing and slicing"
      ]
    },
    {
      "cell_type": "code",
      "execution_count": 42,
      "metadata": {
        "colab": {
          "base_uri": "https://localhost:8080/"
        },
        "id": "cnNW0g0GzV6B",
        "outputId": "01b16dfd-a966-4834-fc7e-40fbd7af4bd3"
      },
      "outputs": [
        {
          "data": {
            "text/plain": [
              "array([[108, 380, 423, 459, 443, 179, 494, 450],\n",
              "       [454, 153, 166, 326, 114, 390, 340, 380],\n",
              "       [243, 328, 463, 416, 158, 237, 193, 186],\n",
              "       [486, 255, 464, 488, 485, 241, 345, 311],\n",
              "       [200, 104, 191, 423, 235, 149, 293, 417],\n",
              "       [370, 283, 351, 436, 102, 477, 205, 163],\n",
              "       [281, 383, 412, 338, 469, 403, 267, 465],\n",
              "       [394, 272, 374, 292, 302, 373, 172, 113],\n",
              "       [206, 130, 117, 153, 168, 447, 281, 434],\n",
              "       [100, 113, 285, 462, 231, 170, 231, 312]])"
            ]
          },
          "execution_count": 42,
          "metadata": {},
          "output_type": "execute_result"
        }
      ],
      "source": [
        "np.random.seed(100)\n",
        "r1 = np.random.randint(100,500,(10,8))\n",
        "r1"
      ]
    },
    {
      "cell_type": "code",
      "execution_count": 43,
      "metadata": {
        "colab": {
          "base_uri": "https://localhost:8080/"
        },
        "id": "UJYE3yrvzol-",
        "outputId": "66aa6e25-6587-4cfd-a714-7aef2d9531e9"
      },
      "outputs": [
        {
          "data": {
            "text/plain": [
              "10"
            ]
          },
          "execution_count": 43,
          "metadata": {},
          "output_type": "execute_result"
        }
      ],
      "source": [
        "len(r1)"
      ]
    },
    {
      "cell_type": "code",
      "execution_count": 44,
      "metadata": {
        "colab": {
          "base_uri": "https://localhost:8080/"
        },
        "id": "TKMRV3bYzyc-",
        "outputId": "8894f185-6497-462f-dc32-3ec1afa0f7b4"
      },
      "outputs": [
        {
          "data": {
            "text/plain": [
              "array([108, 380, 423, 459, 443, 179, 494, 450])"
            ]
          },
          "execution_count": 44,
          "metadata": {},
          "output_type": "execute_result"
        }
      ],
      "source": [
        "r1[0]"
      ]
    },
    {
      "cell_type": "code",
      "execution_count": 45,
      "metadata": {
        "colab": {
          "base_uri": "https://localhost:8080/"
        },
        "id": "ZBnaxd8bz4ve",
        "outputId": "7e453396-765a-49e2-b1f0-0cffe6dc749c"
      },
      "outputs": [
        {
          "data": {
            "text/plain": [
              "array([486, 255, 464, 488, 485, 241, 345, 311])"
            ]
          },
          "execution_count": 45,
          "metadata": {},
          "output_type": "execute_result"
        }
      ],
      "source": [
        "r1[3]"
      ]
    },
    {
      "cell_type": "code",
      "execution_count": 46,
      "metadata": {
        "colab": {
          "base_uri": "https://localhost:8080/"
        },
        "id": "s47sbm_Uz8Ul",
        "outputId": "f0f63a75-55a0-47c3-cced-e10a6613375b"
      },
      "outputs": [
        {
          "data": {
            "text/plain": [
              "array([206, 130, 117, 153, 168, 447, 281, 434])"
            ]
          },
          "execution_count": 46,
          "metadata": {},
          "output_type": "execute_result"
        }
      ],
      "source": [
        "r1[-2]"
      ]
    },
    {
      "cell_type": "code",
      "execution_count": 47,
      "metadata": {
        "colab": {
          "base_uri": "https://localhost:8080/"
        },
        "id": "ewGGlY6k0Fse",
        "outputId": "e90622a1-6da3-4692-a9d7-3745118e232f"
      },
      "outputs": [
        {
          "data": {
            "text/plain": [
              "array([[108, 380, 423, 459, 443, 179, 494, 450],\n",
              "       [454, 153, 166, 326, 114, 390, 340, 380],\n",
              "       [243, 328, 463, 416, 158, 237, 193, 186],\n",
              "       [486, 255, 464, 488, 485, 241, 345, 311],\n",
              "       [200, 104, 191, 423, 235, 149, 293, 417],\n",
              "       [370, 283, 351, 436, 102, 477, 205, 163],\n",
              "       [281, 383, 412, 338, 469, 403, 267, 465],\n",
              "       [394, 272, 374, 292, 302, 373, 172, 113],\n",
              "       [206, 130, 117, 153, 168, 447, 281, 434],\n",
              "       [100, 113, 285, 462, 231, 170, 231, 312]])"
            ]
          },
          "execution_count": 47,
          "metadata": {},
          "output_type": "execute_result"
        }
      ],
      "source": [
        "r1[:]"
      ]
    },
    {
      "cell_type": "code",
      "execution_count": 48,
      "metadata": {
        "colab": {
          "base_uri": "https://localhost:8080/"
        },
        "id": "_j1LQ5BQ0Tga",
        "outputId": "63889bd8-114d-4723-cad1-077a159825be"
      },
      "outputs": [
        {
          "data": {
            "text/plain": [
              "array([[464, 488, 485, 241],\n",
              "       [191, 423, 235, 149],\n",
              "       [351, 436, 102, 477],\n",
              "       [412, 338, 469, 403]])"
            ]
          },
          "execution_count": 48,
          "metadata": {},
          "output_type": "execute_result"
        }
      ],
      "source": [
        "r1[3:7,2:6]   ## rows,columns"
      ]
    },
    {
      "cell_type": "code",
      "execution_count": 49,
      "metadata": {
        "colab": {
          "base_uri": "https://localhost:8080/"
        },
        "id": "iFpnKrdV0X3h",
        "outputId": "67fcc681-8b42-4424-98b5-794cd246c61e"
      },
      "outputs": [
        {
          "data": {
            "text/plain": [
              "array([[488]])"
            ]
          },
          "execution_count": 49,
          "metadata": {},
          "output_type": "execute_result"
        }
      ],
      "source": [
        "r1[3:4,3:4]"
      ]
    },
    {
      "cell_type": "code",
      "execution_count": 50,
      "metadata": {
        "colab": {
          "base_uri": "https://localhost:8080/"
        },
        "id": "6JWWo4Pv1SLj",
        "outputId": "004f80e3-de84-4437-ef5b-ab401ad699d3"
      },
      "outputs": [
        {
          "data": {
            "text/plain": [
              "488"
            ]
          },
          "execution_count": 50,
          "metadata": {},
          "output_type": "execute_result"
        }
      ],
      "source": [
        "r1[3,3]"
      ]
    },
    {
      "cell_type": "code",
      "execution_count": 51,
      "metadata": {
        "colab": {
          "base_uri": "https://localhost:8080/"
        },
        "id": "o2qA5YaS1cQr",
        "outputId": "2ea959d3-1d95-435a-dc29-f9a289e421cf"
      },
      "outputs": [
        {
          "data": {
            "text/plain": [
              "488"
            ]
          },
          "execution_count": 51,
          "metadata": {},
          "output_type": "execute_result"
        }
      ],
      "source": [
        "r1[3][3]"
      ]
    },
    {
      "cell_type": "code",
      "execution_count": 52,
      "metadata": {
        "id": "x9ld3Dmv1hrZ"
      },
      "outputs": [],
      "source": [
        "## Numpy Functions/Methods"
      ]
    },
    {
      "cell_type": "code",
      "execution_count": 53,
      "metadata": {
        "colab": {
          "base_uri": "https://localhost:8080/"
        },
        "id": "yoXO08hp2Iab",
        "outputId": "43c500a5-8555-4ac0-f125-e091918722f4"
      },
      "outputs": [
        {
          "data": {
            "text/plain": [
              "array([[9, 9, 4, 8],\n",
              "       [8, 1, 5, 3],\n",
              "       [6, 3, 3, 3],\n",
              "       [2, 1, 9, 5],\n",
              "       [1, 7, 3, 5]])"
            ]
          },
          "execution_count": 53,
          "metadata": {},
          "output_type": "execute_result"
        }
      ],
      "source": [
        "np.random.seed(100)\n",
        "r1 = np.random.randint(1,10,(5,4))\n",
        "r1"
      ]
    },
    {
      "cell_type": "code",
      "execution_count": 54,
      "metadata": {
        "colab": {
          "base_uri": "https://localhost:8080/"
        },
        "id": "Gyg-H0Wt2MUv",
        "outputId": "ae1edfa1-31ea-4b6d-d094-f70de02f2fce"
      },
      "outputs": [
        {
          "name": "stdout",
          "output_type": "stream",
          "text": [
            "9\n",
            "[9 9 9 8]\n",
            "[9 8 6 9 7]\n"
          ]
        }
      ],
      "source": [
        "print(np.max(r1))\n",
        "print(np.max(r1,axis=0))   ## column wise\n",
        "print(np.max(r1,axis=1))    ## row wise"
      ]
    },
    {
      "cell_type": "code",
      "execution_count": 55,
      "metadata": {
        "colab": {
          "base_uri": "https://localhost:8080/"
        },
        "id": "POr4Y_1R25pP",
        "outputId": "76c691c6-3828-4779-93b0-a13694160166"
      },
      "outputs": [
        {
          "name": "stdout",
          "output_type": "stream",
          "text": [
            "0\n",
            "[0 0 3 0]\n",
            "[0 0 0 2 1]\n"
          ]
        }
      ],
      "source": [
        "## gives the index of max number\n",
        "print(np.argmax(r1))\n",
        "print(np.argmax(r1,axis=0))   ## column wise\n",
        "print(np.argmax(r1,axis=1))    ## row wise"
      ]
    },
    {
      "cell_type": "code",
      "execution_count": 56,
      "metadata": {
        "colab": {
          "base_uri": "https://localhost:8080/"
        },
        "id": "NJ-U_c7j2VH8",
        "outputId": "f68a5d56-bca7-4891-c4f6-bdbfdb8512ef"
      },
      "outputs": [
        {
          "name": "stdout",
          "output_type": "stream",
          "text": [
            "1\n",
            "[1 1 3 3]\n",
            "[4 1 3 1 1]\n"
          ]
        }
      ],
      "source": [
        "print(np.min(r1))\n",
        "print(np.min(r1,axis=0))   ## column wise\n",
        "print(np.min(r1,axis=1))    ## row wise"
      ]
    },
    {
      "cell_type": "code",
      "execution_count": 57,
      "metadata": {
        "colab": {
          "base_uri": "https://localhost:8080/"
        },
        "id": "TuPBds4v3Hus",
        "outputId": "b1628ead-5df4-4bfa-9356-416b4d0605cd"
      },
      "outputs": [
        {
          "name": "stdout",
          "output_type": "stream",
          "text": [
            "5\n",
            "[4 1 2 1]\n",
            "[2 1 1 1 0]\n"
          ]
        }
      ],
      "source": [
        "## gives the index of min number\n",
        "print(np.argmin(r1))\n",
        "print(np.argmin(r1,axis=0))   ## column wise\n",
        "print(np.argmin(r1,axis=1))    ## row wise"
      ]
    },
    {
      "cell_type": "code",
      "execution_count": 58,
      "metadata": {
        "colab": {
          "base_uri": "https://localhost:8080/"
        },
        "id": "ovn_lEii2qMF",
        "outputId": "a175a1bb-b953-4d65-8a9e-d1628d988b7c"
      },
      "outputs": [
        {
          "name": "stdout",
          "output_type": "stream",
          "text": [
            "95\n",
            "[26 21 24 24]\n",
            "[30 17 15 17 16]\n"
          ]
        }
      ],
      "source": [
        "print(np.sum(r1))\n",
        "print(np.sum(r1,axis=0))   ## column wise\n",
        "print(np.sum(r1,axis=1))    ## row wise"
      ]
    },
    {
      "cell_type": "code",
      "execution_count": 59,
      "metadata": {
        "colab": {
          "base_uri": "https://localhost:8080/"
        },
        "id": "ZlWfgwJO2tvb",
        "outputId": "f9b5f299-c2fb-4822-a030-21ea8c9f15e1"
      },
      "outputs": [
        {
          "name": "stdout",
          "output_type": "stream",
          "text": [
            "4.75\n",
            "[5.2 4.2 4.8 4.8]\n",
            "[7.5  4.25 3.75 4.25 4.  ]\n"
          ]
        }
      ],
      "source": [
        "print(np.mean(r1))\n",
        "print(np.mean(r1,axis=0))   ## column wise\n",
        "print(np.mean(r1,axis=1))    ## row wise"
      ]
    },
    {
      "cell_type": "code",
      "execution_count": 60,
      "metadata": {
        "colab": {
          "base_uri": "https://localhost:8080/"
        },
        "id": "5Aar5cav2x33",
        "outputId": "c50d4a6f-4ad4-4863-f382-902893a019f6"
      },
      "outputs": [
        {
          "data": {
            "text/plain": [
              "(5, 4)"
            ]
          },
          "execution_count": 60,
          "metadata": {},
          "output_type": "execute_result"
        }
      ],
      "source": [
        "r1.shape"
      ]
    },
    {
      "cell_type": "code",
      "execution_count": 68,
      "metadata": {
        "colab": {
          "base_uri": "https://localhost:8080/"
        },
        "id": "DCpi97HB30T_",
        "outputId": "a61d3e45-1f9f-4c66-98b6-8a9b8bc52edb"
      },
      "outputs": [
        {
          "data": {
            "text/plain": [
              "array([ 9,  9,  4,  8,  8, 10,  5,  3,  6,  3,  3,  3,  2,  1,  9,  5,  1,\n",
              "        7,  3,  5])"
            ]
          },
          "execution_count": 68,
          "metadata": {},
          "output_type": "execute_result"
        }
      ],
      "source": [
        "r1_1 = r1.reshape(20)\n",
        "r1_1"
      ]
    },
    {
      "cell_type": "code",
      "execution_count": 62,
      "metadata": {
        "colab": {
          "base_uri": "https://localhost:8080/"
        },
        "id": "XSi-Hm6b4A_I",
        "outputId": "d0573e76-26a0-4486-970e-30b2460427bd"
      },
      "outputs": [
        {
          "data": {
            "text/plain": [
              "array([[9, 9, 4, 8, 8, 1, 5, 3, 6, 3],\n",
              "       [3, 3, 2, 1, 9, 5, 1, 7, 3, 5]])"
            ]
          },
          "execution_count": 62,
          "metadata": {},
          "output_type": "execute_result"
        }
      ],
      "source": [
        "r1_2 = r1.reshape((2,10))  ## (4,5), (2,10),(10,2),(20,1),(1,20)\n",
        "r1_2"
      ]
    },
    {
      "cell_type": "code",
      "execution_count": 73,
      "metadata": {
        "colab": {
          "base_uri": "https://localhost:8080/"
        },
        "id": "JQvZIN374XME",
        "outputId": "cd14f6e7-39bb-43d4-8824-7dd4a2eb7d44"
      },
      "outputs": [
        {
          "data": {
            "text/plain": [
              "array([[[ 9,  9],\n",
              "        [ 4,  8]],\n",
              "\n",
              "       [[ 8, 10],\n",
              "        [ 5,  3]],\n",
              "\n",
              "       [[ 6,  3],\n",
              "        [ 3,  3]],\n",
              "\n",
              "       [[ 2,  1],\n",
              "        [ 9,  5]],\n",
              "\n",
              "       [[ 1,  7],\n",
              "        [ 3,  5]]])"
            ]
          },
          "execution_count": 73,
          "metadata": {},
          "output_type": "execute_result"
        }
      ],
      "source": [
        "r1_3 = r1.reshape((5,2,2))\n",
        "r1_3"
      ]
    },
    {
      "cell_type": "code",
      "execution_count": 64,
      "metadata": {
        "colab": {
          "base_uri": "https://localhost:8080/"
        },
        "id": "e63ysU9J4dQ9",
        "outputId": "c0920cf2-af69-48da-f35a-6550736dffde"
      },
      "outputs": [
        {
          "data": {
            "text/plain": [
              "array([[9, 9, 4, 8],\n",
              "       [8, 1, 5, 3],\n",
              "       [6, 3, 3, 3],\n",
              "       [2, 1, 9, 5],\n",
              "       [1, 7, 3, 5]])"
            ]
          },
          "execution_count": 64,
          "metadata": {},
          "output_type": "execute_result"
        }
      ],
      "source": [
        "r1"
      ]
    },
    {
      "cell_type": "code",
      "execution_count": 65,
      "metadata": {
        "id": "4B-Rim7G5fjy"
      },
      "outputs": [],
      "source": [
        "r1[1,1] = 10"
      ]
    },
    {
      "cell_type": "code",
      "execution_count": 66,
      "metadata": {
        "colab": {
          "base_uri": "https://localhost:8080/"
        },
        "id": "mMeu4K-W5nXW",
        "outputId": "cd6c4622-cb33-4cfc-84b5-270a3365af90"
      },
      "outputs": [
        {
          "data": {
            "text/plain": [
              "array([[ 9,  9,  4,  8],\n",
              "       [ 8, 10,  5,  3],\n",
              "       [ 6,  3,  3,  3],\n",
              "       [ 2,  1,  9,  5],\n",
              "       [ 1,  7,  3,  5]])"
            ]
          },
          "execution_count": 66,
          "metadata": {},
          "output_type": "execute_result"
        }
      ],
      "source": [
        "r1"
      ]
    },
    {
      "cell_type": "code",
      "execution_count": null,
      "metadata": {
        "id": "XIGkA9725pof"
      },
      "outputs": [],
      "source": []
    }
  ],
  "metadata": {
    "colab": {
      "provenance": []
    },
    "kernelspec": {
      "display_name": "Python 3",
      "name": "python3"
    },
    "language_info": {
      "codemirror_mode": {
        "name": "ipython",
        "version": 3
      },
      "file_extension": ".py",
      "mimetype": "text/x-python",
      "name": "python",
      "nbconvert_exporter": "python",
      "pygments_lexer": "ipython3",
      "version": "3.10.13"
    }
  },
  "nbformat": 4,
  "nbformat_minor": 0
}
