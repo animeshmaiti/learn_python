{
 "cells": [
  {
   "cell_type": "code",
   "execution_count": 1,
   "metadata": {},
   "outputs": [
    {
     "name": "stdout",
     "output_type": "stream",
     "text": [
      "['macOS', 'windows', 7, 14.564, True]\n",
      "['windows']\n",
      "['macOS', 'windows', 7]\n",
      "5\n",
      "14.564\n",
      "[14.564, True]\n",
      "[7, 14.564]\n"
     ]
    }
   ],
   "source": [
    "thisList = ['macOS', 'windows', 7, 14.564, True]\n",
    "print(thisList)\n",
    "print(thisList[1:2])\n",
    "print(thisList[:3])\n",
    "type(thisList[4])\n",
    "print(len(thisList))\n",
    "print(thisList[-2])\n",
    "print(thisList[-2:])\n",
    "print(thisList[-3:-1])"
   ]
  },
  {
   "cell_type": "code",
   "execution_count": 17,
   "metadata": {},
   "outputs": [
    {
     "name": "stdout",
     "output_type": "stream",
     "text": [
      "1.1111111111111112\n",
      "1\n",
      "5\n",
      "125000\n"
     ]
    }
   ],
   "source": [
    "a = 50/45\n",
    "b = 50//45 #floor division\n",
    "c = 50%45 #modulus\n",
    "d = 50**3 #exponentiation\n",
    "print(a)\n",
    "print(b)\n",
    "print(c)\n",
    "print(d)"
   ]
  },
  {
   "cell_type": "code",
   "execution_count": 20,
   "metadata": {},
   "outputs": [
    {
     "name": "stdout",
     "output_type": "stream",
     "text": [
      "(23+45j)\n",
      "<class 'complex'>\n",
      "23.0\n",
      "45.0\n"
     ]
    }
   ],
   "source": [
    "comp =23 + 45j\n",
    "print(comp)\n",
    "print(type(comp))\n",
    "print(comp.real)\n",
    "print(comp.imag)"
   ]
  },
  {
   "cell_type": "code",
   "execution_count": 30,
   "metadata": {},
   "outputs": [
    {
     "name": "stdout",
     "output_type": "stream",
     "text": [
      "[3, 5, 7]\n"
     ]
    }
   ],
   "source": [
    "x2 = [1,2,3,4,5,6,7,8,9,10]\n",
    "print(x2[2:7:2])"
   ]
  },
  {
   "cell_type": "code",
   "execution_count": 32,
   "metadata": {},
   "outputs": [
    {
     "name": "stdout",
     "output_type": "stream",
     "text": [
      "<class 'tuple'>\n"
     ]
    }
   ],
   "source": [
    "tup=(1,2,3,4,5,6,7,8,9,10)\n",
    "print(type(tup))"
   ]
  },
  {
   "cell_type": "code",
   "execution_count": 44,
   "metadata": {},
   "outputs": [
    {
     "name": "stdout",
     "output_type": "stream",
     "text": [
      "89\n",
      "dict_keys(['name', 'age', 'marks'])\n",
      "dict_keys(['math', 'DSA', 'OS'])\n",
      "dict_values(['animesh', 22, {'math': 89, 'DSA': 90, 'OS': 90}])\n",
      "animesh\n"
     ]
    }
   ],
   "source": [
    "student={\"name\": \"animesh\", \"age\": 22,\"marks\":{\"math\":89,\"DSA\":90,\"OS\":90}}\n",
    "print(student[\"marks\"][\"math\"])\n",
    "print(student.keys())\n",
    "print(student[\"marks\"].keys())\n",
    "print(student.values())\n",
    "print(student[\"name\"])"
   ]
  },
  {
   "cell_type": "code",
   "execution_count": 57,
   "metadata": {},
   "outputs": [],
   "source": [
    "a1 = \"\"\"Python is a high-level, general-purpose programming language. Its design philosophy emphasizes code readability\n",
    "with the use of significant indentation. Python is dynamically typed and garbage-collected.\n",
    "It supports multiple programming paradigms, including structured, object-oriented and functional programming.\\n\"\"\""
   ]
  },
  {
   "cell_type": "code",
   "execution_count": 60,
   "metadata": {},
   "outputs": [
    {
     "name": "stdout",
     "output_type": "stream",
     "text": [
      "7\n",
      "7\n",
      "2\n",
      "PYTHON IS A HIGH-LEVEL, GENERAL-PURPOSE PROGRAMMING LANGUAGE. ITS DESIGN PHILOSOPHY EMPHASIZES CODE READABILITY\n",
      "WITH THE USE OF SIGNIFICANT INDENTATION. PYTHON IS DYNAMICALLY TYPED AND GARBAGE-COLLECTED.\n",
      "IT SUPPORTS MULTIPLE PROGRAMMING PARADIGMS, INCLUDING STRUCTURED, OBJECT-ORIENTED AND FUNCTIONAL PROGRAMMING.\n",
      "\n",
      "Python Is A High-Level, General-Purpose Programming Language. Its Design Philosophy Emphasizes Code Readability\n",
      "With The Use Of Significant Indentation. Python Is Dynamically Typed And Garbage-Collected.\n",
      "It Supports Multiple Programming Paradigms, Including Structured, Object-Oriented And Functional Programming.\n",
      "\n",
      "314\n"
     ]
    }
   ],
   "source": [
    "print(a1.index(\"is\"))\n",
    "print(a1.find(\"is\"))\n",
    "print(a1.count(\"is\"))\n",
    "print(a1.upper())\n",
    "print(a1.title())\n",
    "print(a1.__len__())"
   ]
  }
 ],
 "metadata": {
  "kernelspec": {
   "display_name": "base",
   "language": "python",
   "name": "python3"
  },
  "language_info": {
   "codemirror_mode": {
    "name": "ipython",
    "version": 3
   },
   "file_extension": ".py",
   "mimetype": "text/x-python",
   "name": "python",
   "nbconvert_exporter": "python",
   "pygments_lexer": "ipython3",
   "version": "3.10.13"
  }
 },
 "nbformat": 4,
 "nbformat_minor": 2
}
