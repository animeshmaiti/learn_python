{
  "cells": [
    {
      "cell_type": "markdown",
      "metadata": {
        "id": "QZynM71rD2F5"
      },
      "source": [
        "Object Oriented Programming\n",
        "* Real World into Virtual World by using different objects\n",
        "* For everything we do, we need an object\n",
        "* Object has two things\n",
        "1. Attribute / Property / Data / Variables - name, age, height\n",
        "2. Behaviour / Methods - Speak, Walk, Eat\n",
        "\n",
        "* In OOPS Functions are called Methods\n",
        "* Class - Design / Blueprint"
      ]
    },
    {
      "cell_type": "code",
      "execution_count": 1,
      "metadata": {
        "colab": {
          "base_uri": "https://localhost:8080/"
        },
        "id": "cnmbD-j_FeRX",
        "outputId": "751d68e3-c4b0-41f5-b205-e05d18542afd"
      },
      "outputs": [
        {
          "name": "stdout",
          "output_type": "stream",
          "text": [
            "<class 'int'>\n"
          ]
        }
      ],
      "source": [
        "a = 20\n",
        "print(type(a))"
      ]
    },
    {
      "cell_type": "code",
      "execution_count": 2,
      "metadata": {
        "colab": {
          "base_uri": "https://localhost:8080/"
        },
        "id": "OeKQi_f6Fgii",
        "outputId": "752b91d7-2039-4688-f35d-dd9d9749067d"
      },
      "outputs": [
        {
          "name": "stdout",
          "output_type": "stream",
          "text": [
            "<class 'str'>\n"
          ]
        }
      ],
      "source": [
        "a = \"umang\"\n",
        "print(type(a))"
      ]
    },
    {
      "cell_type": "code",
      "execution_count": 3,
      "metadata": {
        "id": "VAQSgEECFruG"
      },
      "outputs": [],
      "source": [
        "class training:\n",
        "  def subjects(self):\n",
        "    print(\"Maths, Science, English\")"
      ]
    },
    {
      "cell_type": "code",
      "execution_count": 4,
      "metadata": {
        "colab": {
          "base_uri": "https://localhost:8080/"
        },
        "id": "5WHWdwuzHCzB",
        "outputId": "3c6447cd-e806-4bf9-914a-4ee3a5922a15"
      },
      "outputs": [
        {
          "name": "stdout",
          "output_type": "stream",
          "text": [
            "<class '__main__.training'>\n",
            "<class '__main__.training'>\n"
          ]
        }
      ],
      "source": [
        "t1 = training()\n",
        "t2 = training()\n",
        "print(type(t1))\n",
        "print(type(t2))"
      ]
    },
    {
      "cell_type": "code",
      "execution_count": 7,
      "metadata": {
        "colab": {
          "base_uri": "https://localhost:8080/"
        },
        "id": "VISKv9ZBHNtA",
        "outputId": "036e7ebf-119a-4161-ef75-20b840d119a9"
      },
      "outputs": [
        {
          "name": "stdout",
          "output_type": "stream",
          "text": [
            "Maths, Science, English\n",
            "Maths, Science, English\n",
            "Maths, Science, English\n",
            "Maths, Science, English\n"
          ]
        }
      ],
      "source": [
        "class training:\n",
        "  def subjects(self):\n",
        "    print(\"Maths, Science, English\")\n",
        "\n",
        "t1 = training()\n",
        "t2 = training()\n",
        "t1.subjects()\n",
        "t2.subjects()\n",
        "training.subjects(t1)\n",
        "training.subjects(t2)"
      ]
    },
    {
      "cell_type": "code",
      "execution_count": 8,
      "metadata": {
        "colab": {
          "base_uri": "https://localhost:8080/"
        },
        "id": "wcZsS45QHgtj",
        "outputId": "c7f104ed-d6bb-441b-c4d1-26a1107ec79b"
      },
      "outputs": [
        {
          "name": "stdout",
          "output_type": "stream",
          "text": [
            "Maths\n",
            "Science\n",
            "Maths\n",
            "Science\n"
          ]
        }
      ],
      "source": [
        "class training:\n",
        "  def subjects(self,sub):\n",
        "    print(sub)\n",
        "\n",
        "t1 = training()\n",
        "t2 = training()\n",
        "t1.subjects(\"Maths\")\n",
        "t2.subjects(\"Science\")\n",
        "training.subjects(t1,\"Maths\")\n",
        "training.subjects(t2,\"Science\")"
      ]
    },
    {
      "cell_type": "markdown",
      "metadata": {
        "id": "B8sQ0jZFJcAC"
      },
      "source": [
        "init method\n",
        "* Special method to define variables in class\n",
        "* It is called automatically"
      ]
    },
    {
      "cell_type": "code",
      "execution_count": 11,
      "metadata": {
        "colab": {
          "base_uri": "https://localhost:8080/"
        },
        "id": "1uxTD0QWIkVh",
        "outputId": "061c87db-d3fd-4b1e-8891-5928ffa10c74"
      },
      "outputs": [
        {
          "name": "stdout",
          "output_type": "stream",
          "text": [
            "This is a init method\n",
            "This is a init method\n",
            "Subject Name - Maths\n",
            "Fee - 1000\n",
            "Subject Name - Science\n",
            "Fee - 800\n"
          ]
        }
      ],
      "source": [
        "class training:\n",
        "\n",
        "  def __init__(self,name,fee):\n",
        "    print(\"This is a init method\")\n",
        "    self.n = name\n",
        "    self.f = fee\n",
        "\n",
        "  def subjects(self):\n",
        "    print(\"Subject Name - \"+str(self.n))\n",
        "    print(\"Fee - \"+str(self.f))\n",
        "\n",
        "t1 = training(\"Maths\",1000)\n",
        "t2 = training(\"Science\",800)\n",
        "t1.subjects()\n",
        "t2.subjects()"
      ]
    },
    {
      "cell_type": "markdown",
      "metadata": {
        "id": "fYSHC3DZMtTp"
      },
      "source": [
        "Inheritance\n",
        "* Class using the property/methods of another class\n",
        "* Types\n",
        "1. Single Level Inheritance\n",
        "2. Multiple Level Inheritance\n",
        "3. Multiple Inheritance"
      ]
    },
    {
      "cell_type": "code",
      "execution_count": 12,
      "metadata": {
        "id": "bfBQ_gpaLBYC"
      },
      "outputs": [],
      "source": [
        "### Single level inheritance"
      ]
    },
    {
      "cell_type": "code",
      "execution_count": 15,
      "metadata": {
        "id": "x5p0WeOFOEyi"
      },
      "outputs": [],
      "source": [
        "class A:\n",
        "  def m1(self):\n",
        "    print(\"This is method 1\")\n",
        "\n",
        "class B(A):\n",
        "  def m2(self):\n",
        "    print(\"This is method 2\")"
      ]
    },
    {
      "cell_type": "code",
      "execution_count": 16,
      "metadata": {
        "id": "4tTeq1ZpOQg0"
      },
      "outputs": [],
      "source": [
        "a1 = A()\n",
        "b1 = B()"
      ]
    },
    {
      "cell_type": "code",
      "execution_count": 17,
      "metadata": {
        "colab": {
          "base_uri": "https://localhost:8080/"
        },
        "id": "xN168-PQOYLf",
        "outputId": "e8bc8fb1-57f5-4d94-a5c6-4a9d2b0802c2"
      },
      "outputs": [
        {
          "name": "stdout",
          "output_type": "stream",
          "text": [
            "This is method 1\n"
          ]
        }
      ],
      "source": [
        "b1.m1()"
      ]
    },
    {
      "cell_type": "code",
      "execution_count": 18,
      "metadata": {
        "colab": {
          "base_uri": "https://localhost:8080/"
        },
        "id": "wqthV7ASOrh1",
        "outputId": "6bde4a59-7516-4453-c87d-f13ee252f321"
      },
      "outputs": [
        {
          "name": "stdout",
          "output_type": "stream",
          "text": [
            "This is method 2\n"
          ]
        }
      ],
      "source": [
        "b1.m2()"
      ]
    },
    {
      "cell_type": "code",
      "execution_count": 19,
      "metadata": {
        "id": "H2cLGq3LOsyz"
      },
      "outputs": [],
      "source": [
        "## Multiple Level Inheritance"
      ]
    },
    {
      "cell_type": "code",
      "execution_count": 21,
      "metadata": {
        "id": "S94g8YVuTlmI"
      },
      "outputs": [],
      "source": [
        "class A:\n",
        "  def m1(self):\n",
        "    print(\"This is method 1\")\n",
        "\n",
        "class B(A):\n",
        "  def m2(self):\n",
        "    print(\"This is method 2\")\n",
        "\n",
        "class C(B):\n",
        "  def m3(self):\n",
        "    print(\"This is method 3\")"
      ]
    },
    {
      "cell_type": "code",
      "execution_count": 22,
      "metadata": {
        "id": "MhcGu71ETvu8"
      },
      "outputs": [],
      "source": [
        "a1 = A()\n",
        "b1 = B()\n",
        "c1 = C()"
      ]
    },
    {
      "cell_type": "code",
      "execution_count": 23,
      "metadata": {
        "id": "DRk0oOXXT4U2"
      },
      "outputs": [],
      "source": [
        "## Multiple Inheritance"
      ]
    },
    {
      "cell_type": "code",
      "execution_count": 24,
      "metadata": {
        "id": "bE9SBplDUFCC"
      },
      "outputs": [],
      "source": [
        "class A:\n",
        "  def m1(self):\n",
        "    print(\"This is method 1\")\n",
        "\n",
        "class B:\n",
        "  def m2(self):\n",
        "    print(\"This is method 2\")\n",
        "\n",
        "class C(A,B):\n",
        "  def m3(self):\n",
        "    print(\"This is method 3\")"
      ]
    },
    {
      "cell_type": "code",
      "execution_count": 25,
      "metadata": {
        "id": "b7Tbj67fUIAr"
      },
      "outputs": [],
      "source": [
        "a1 = A()\n",
        "b1 = B()\n",
        "c1 = C()"
      ]
    },
    {
      "cell_type": "code",
      "execution_count": 26,
      "metadata": {
        "id": "1Wo8GtUmUKRM"
      },
      "outputs": [],
      "source": [
        "## init method in inheritance"
      ]
    },
    {
      "cell_type": "code",
      "execution_count": 27,
      "metadata": {
        "id": "FufTW1AzU13R"
      },
      "outputs": [],
      "source": [
        "class A:\n",
        "  def __init__(self):\n",
        "    print(\"init of A\")\n",
        "\n",
        "  def m1(self):\n",
        "    print(\"This is method 1\")\n",
        "\n",
        "class B(A):\n",
        "  def m2(self):\n",
        "    print(\"This is method 2\")"
      ]
    },
    {
      "cell_type": "code",
      "execution_count": 29,
      "metadata": {
        "colab": {
          "base_uri": "https://localhost:8080/"
        },
        "id": "pxuUltXCU8w5",
        "outputId": "c34a8659-33e1-43eb-c5d7-c890d7ee44fd"
      },
      "outputs": [
        {
          "name": "stdout",
          "output_type": "stream",
          "text": [
            "init of A\n",
            "init of A\n"
          ]
        }
      ],
      "source": [
        "a1 = A()\n",
        "b1 = B()"
      ]
    },
    {
      "cell_type": "code",
      "execution_count": 30,
      "metadata": {
        "id": "SMBGsohTVDpM"
      },
      "outputs": [],
      "source": [
        "class A:\n",
        "  def __init__(self):\n",
        "    print(\"init of A\")\n",
        "\n",
        "  def m1(self):\n",
        "    print(\"This is method 1\")\n",
        "\n",
        "class B(A):\n",
        "  def __init__(self):\n",
        "    print(\"init of B\")\n",
        "\n",
        "  def m2(self):\n",
        "    print(\"This is method 2\")"
      ]
    },
    {
      "cell_type": "code",
      "execution_count": 31,
      "metadata": {
        "colab": {
          "base_uri": "https://localhost:8080/"
        },
        "id": "pILkQjffVSHI",
        "outputId": "8ff24521-550c-4fa8-e7f4-1c87770f61b2"
      },
      "outputs": [
        {
          "name": "stdout",
          "output_type": "stream",
          "text": [
            "init of A\n",
            "init of B\n"
          ]
        }
      ],
      "source": [
        "a1 = A()\n",
        "b1 = B()"
      ]
    },
    {
      "cell_type": "code",
      "execution_count": 32,
      "metadata": {
        "id": "cZgOyKgyV4m1"
      },
      "outputs": [],
      "source": [
        "class A:\n",
        "  def __init__(self):\n",
        "    print(\"init of A\")\n",
        "\n",
        "  def m1(self):\n",
        "    print(\"This is method 1\")\n",
        "\n",
        "class B(A):\n",
        "  def __init__(self):\n",
        "    super().__init__()\n",
        "    print(\"init of B\")\n",
        "\n",
        "  def m2(self):\n",
        "    print(\"This is method 2\")"
      ]
    },
    {
      "cell_type": "code",
      "execution_count": 33,
      "metadata": {
        "colab": {
          "base_uri": "https://localhost:8080/"
        },
        "id": "UGi4LT_xWDT9",
        "outputId": "24e3dee0-5289-42c4-cf34-1583900d8ccc"
      },
      "outputs": [
        {
          "name": "stdout",
          "output_type": "stream",
          "text": [
            "init of A\n",
            "init of A\n",
            "init of B\n"
          ]
        }
      ],
      "source": [
        "a1 = A()\n",
        "b1 = B()"
      ]
    },
    {
      "cell_type": "code",
      "execution_count": 4,
      "metadata": {
        "id": "FVs_rQOGWEOV"
      },
      "outputs": [],
      "source": [
        "class A:\n",
        "  def __init__(self):\n",
        "    print(\"init of A\")\n",
        "  def m1(self):\n",
        "    print(\"This is method 1\")\n",
        "\n",
        "class B:\n",
        "  def __init__(self):\n",
        "    print(\"init of B\")\n",
        "  def m2(self):\n",
        "    print(\"This is method 2\")\n",
        "\n",
        "class C(A,B):\n",
        "  def m3(self):\n",
        "    print(\"This is method 3\")"
      ]
    },
    {
      "cell_type": "code",
      "execution_count": 7,
      "metadata": {
        "colab": {
          "base_uri": "https://localhost:8080/"
        },
        "id": "lgzVJbjaWcw4",
        "outputId": "dc01825f-e733-4556-83e0-8bc91d351f99"
      },
      "outputs": [
        {
          "name": "stdout",
          "output_type": "stream",
          "text": [
            "init of B\n"
          ]
        }
      ],
      "source": [
        "c1 = C()"
      ]
    },
    {
      "cell_type": "code",
      "execution_count": 8,
      "metadata": {},
      "outputs": [
        {
          "name": "stdout",
          "output_type": "stream",
          "text": [
            "This is method 1\n"
          ]
        }
      ],
      "source": [
        "c1.m1()"
      ]
    },
    {
      "cell_type": "code",
      "execution_count": 37,
      "metadata": {
        "id": "Z647VoYEWih5"
      },
      "outputs": [],
      "source": [
        "class A:\n",
        "  def __init__(self):\n",
        "    print(\"init of A\")\n",
        "  def m1(self):\n",
        "    print(\"This is method 1\")\n",
        "\n",
        "class B:\n",
        "  def __init__(self):\n",
        "    print(\"init of B\")\n",
        "  def m2(self):\n",
        "    print(\"This is method 2\")\n",
        "\n",
        "class C(B,A):\n",
        "  def m3(self):\n",
        "    print(\"This is method 3\")"
      ]
    },
    {
      "cell_type": "code",
      "execution_count": 38,
      "metadata": {
        "colab": {
          "base_uri": "https://localhost:8080/"
        },
        "id": "uJKOMIyxWnpa",
        "outputId": "d1d79742-e9e9-43ac-e0fd-4eb14b7fb1ad"
      },
      "outputs": [
        {
          "name": "stdout",
          "output_type": "stream",
          "text": [
            "init of B\n"
          ]
        }
      ],
      "source": [
        "c1 = C()"
      ]
    },
    {
      "cell_type": "code",
      "execution_count": 39,
      "metadata": {
        "id": "Yu2uI-LDWo0I"
      },
      "outputs": [],
      "source": [
        "### Comprehension"
      ]
    },
    {
      "cell_type": "code",
      "execution_count": 40,
      "metadata": {
        "colab": {
          "base_uri": "https://localhost:8080/"
        },
        "id": "RADsgWh5Xjn1",
        "outputId": "59959b8e-c477-4eb2-c2af-f01700cfeff8"
      },
      "outputs": [
        {
          "name": "stdout",
          "output_type": "stream",
          "text": [
            "[1, 4, 9, 16, 25]\n"
          ]
        }
      ],
      "source": [
        "a = [1,2,3,4,5]\n",
        "sq = []\n",
        "for i in a:\n",
        "  sq.append(i**2)\n",
        "\n",
        "print(sq)"
      ]
    },
    {
      "cell_type": "code",
      "execution_count": 41,
      "metadata": {
        "colab": {
          "base_uri": "https://localhost:8080/"
        },
        "id": "spE8-qjKX8xg",
        "outputId": "ccb5f25a-4cd9-4dd4-fc8c-7ac3d0579484"
      },
      "outputs": [
        {
          "name": "stdout",
          "output_type": "stream",
          "text": [
            "[1, 4, 9, 16, 25]\n"
          ]
        }
      ],
      "source": [
        "a = [1,2,3,4,5]\n",
        "sq = [i**2 for i in a]\n",
        "print(sq)"
      ]
    },
    {
      "cell_type": "code",
      "execution_count": 43,
      "metadata": {
        "colab": {
          "base_uri": "https://localhost:8080/"
        },
        "id": "rl_NF6bCYHDM",
        "outputId": "cc89ab2a-c8ca-49ac-bc77-9999908a27e7"
      },
      "outputs": [
        {
          "name": "stdout",
          "output_type": "stream",
          "text": [
            "[1, 16, 81, 256, 625]\n"
          ]
        }
      ],
      "source": [
        "a = [1,2,3,4,5]\n",
        "sq = [i**2 for i in a]\n",
        "sqsq = [j**2 for j in sq]\n",
        "print(sqsq)"
      ]
    },
    {
      "cell_type": "code",
      "execution_count": 44,
      "metadata": {
        "colab": {
          "base_uri": "https://localhost:8080/"
        },
        "id": "snWG8kmKYS5K",
        "outputId": "6b870dcb-3420-449c-f1d9-86ee75a7c436"
      },
      "outputs": [
        {
          "name": "stdout",
          "output_type": "stream",
          "text": [
            "[1, 16, 81, 256, 625]\n"
          ]
        }
      ],
      "source": [
        "a = [1,2,3,4,5]\n",
        "sqsq = [j**2 for j in (i**2 for i in a)]\n",
        "print(sqsq)"
      ]
    },
    {
      "cell_type": "code",
      "execution_count": 45,
      "metadata": {
        "colab": {
          "base_uri": "https://localhost:8080/"
        },
        "id": "rOuoWmJJYcWS",
        "outputId": "2662a5ea-27be-4fbd-9037-ab2a4c4d4b69"
      },
      "outputs": [
        {
          "name": "stdout",
          "output_type": "stream",
          "text": [
            "{256, 1, 16, 625, 81}\n"
          ]
        }
      ],
      "source": [
        "a = [1,2,3,4,5]\n",
        "sqsq = {j**2 for j in (i**2 for i in a)}\n",
        "print(sqsq)"
      ]
    },
    {
      "cell_type": "code",
      "execution_count": 51,
      "metadata": {
        "id": "bADtljhkb43H"
      },
      "outputs": [],
      "source": [
        "## dictionary comprhension"
      ]
    },
    {
      "cell_type": "code",
      "execution_count": 52,
      "metadata": {
        "colab": {
          "base_uri": "https://localhost:8080/"
        },
        "id": "IwxgOQOJb83P",
        "outputId": "e218c134-416b-4130-d31b-e474f066c366"
      },
      "outputs": [
        {
          "name": "stdout",
          "output_type": "stream",
          "text": [
            "{'key1': 10, 'key2': 20}\n"
          ]
        }
      ],
      "source": [
        "keys = [\"key1\",\"key2\"]\n",
        "values = [10,20]\n",
        "d = {k:v for (k,v) in zip(keys,values)}\n",
        "print(d)"
      ]
    },
    {
      "cell_type": "code",
      "execution_count": 46,
      "metadata": {
        "id": "ATBtYh1hYis8"
      },
      "outputs": [],
      "source": [
        "### Lambda Function"
      ]
    },
    {
      "cell_type": "code",
      "execution_count": 47,
      "metadata": {
        "id": "rrrTayDvZUx9"
      },
      "outputs": [],
      "source": [
        "def square(a):\n",
        "  return a**2"
      ]
    },
    {
      "cell_type": "code",
      "execution_count": 48,
      "metadata": {
        "colab": {
          "base_uri": "https://localhost:8080/"
        },
        "id": "RmfWPNZtZZ2m",
        "outputId": "5c5d3d55-5655-4e46-d63d-30355c484ce5"
      },
      "outputs": [
        {
          "data": {
            "text/plain": [
              "25"
            ]
          },
          "execution_count": 48,
          "metadata": {},
          "output_type": "execute_result"
        }
      ],
      "source": [
        "square(5)"
      ]
    },
    {
      "cell_type": "code",
      "execution_count": 49,
      "metadata": {
        "colab": {
          "base_uri": "https://localhost:8080/"
        },
        "id": "Jwl7GsrsZa3-",
        "outputId": "f6a86d95-0e37-44f9-c4ac-1ba22f1571e4"
      },
      "outputs": [
        {
          "name": "stdout",
          "output_type": "stream",
          "text": [
            "25\n"
          ]
        }
      ],
      "source": [
        "sq = lambda a:a**2\n",
        "print(sq(5))"
      ]
    },
    {
      "cell_type": "code",
      "execution_count": 50,
      "metadata": {
        "colab": {
          "base_uri": "https://localhost:8080/"
        },
        "id": "l9VSKwVhZhi-",
        "outputId": "1c05becd-8794-4694-f6b9-4396cb173338"
      },
      "outputs": [
        {
          "name": "stdout",
          "output_type": "stream",
          "text": [
            "15\n"
          ]
        }
      ],
      "source": [
        "sm = lambda a,b:a+b\n",
        "print(sm(5,10))"
      ]
    },
    {
      "cell_type": "code",
      "execution_count": null,
      "metadata": {
        "id": "CyyQ0c2XZo_4"
      },
      "outputs": [],
      "source": []
    }
  ],
  "metadata": {
    "colab": {
      "provenance": []
    },
    "kernelspec": {
      "display_name": "Python 3",
      "name": "python3"
    },
    "language_info": {
      "codemirror_mode": {
        "name": "ipython",
        "version": 3
      },
      "file_extension": ".py",
      "mimetype": "text/x-python",
      "name": "python",
      "nbconvert_exporter": "python",
      "pygments_lexer": "ipython3",
      "version": "3.10.13"
    }
  },
  "nbformat": 4,
  "nbformat_minor": 0
}
