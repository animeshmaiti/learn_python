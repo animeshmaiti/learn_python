{
 "cells": [
  {
   "cell_type": "code",
   "execution_count": 30,
   "metadata": {},
   "outputs": [
    {
     "name": "stdout",
     "output_type": "stream",
     "text": [
      "IT\n",
      "Anim\n"
     ]
    }
   ],
   "source": [
    "class Department:\n",
    "    def __init__(self, DepName):\n",
    "        self.DepName = DepName\n",
    "    def print_department_details(self):\n",
    "        print(self.DepName)\n",
    "\n",
    "class Employee(Department):\n",
    "    def __init__(self,DepName, EmpName):\n",
    "        Department.__init__(self, DepName)\n",
    "        self.EmpName = EmpName\n",
    "\n",
    "    def print_employee_details(self):\n",
    "        print(self.EmpName)\n",
    "\n",
    "\n",
    "Y=Employee(\"IT\",\"Anim\")\n",
    "\n",
    "Y.print_department_details()\n",
    "Y.print_employee_details()"
   ]
  }
 ],
 "metadata": {
  "kernelspec": {
   "display_name": "base",
   "language": "python",
   "name": "python3"
  },
  "language_info": {
   "codemirror_mode": {
    "name": "ipython",
    "version": 3
   },
   "file_extension": ".py",
   "mimetype": "text/x-python",
   "name": "python",
   "nbconvert_exporter": "python",
   "pygments_lexer": "ipython3",
   "version": "3.10.13"
  }
 },
 "nbformat": 4,
 "nbformat_minor": 2
}
