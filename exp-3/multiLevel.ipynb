{
 "cells": [
  {
   "cell_type": "code",
   "execution_count": 3,
   "metadata": {},
   "outputs": [
    {
     "name": "stdout",
     "output_type": "stream",
     "text": [
      "University Name:  Kiit University\n",
      "School Name:  School of electronics\n",
      "Student Name:  Animesh\n",
      "Roll:  2130006\n"
     ]
    }
   ],
   "source": [
    "class University:\n",
    "    def __init__(self, name):\n",
    "        self.name = name\n",
    "\n",
    "    def Name(self):\n",
    "        print(\"University Name: \", self.name)\n",
    "\n",
    "class School(University):\n",
    "    def __init__(self, name,schName):\n",
    "        super().__init__(name)\n",
    "        self.schName = schName\n",
    "\n",
    "    def SchoolName(self):\n",
    "        print(\"School Name: \", self.schName)\n",
    "\n",
    "class Student(School):\n",
    "    def __init__(self, name, schName, stuName, roll):\n",
    "        super().__init__(name, schName)\n",
    "        self.sName = stuName\n",
    "        self.roll = roll\n",
    "\n",
    "    def StudentName(self):\n",
    "        print(\"Student Name: \", self.sName)\n",
    "        print(\"Roll: \", self.roll)\n",
    "\n",
    "student=Student(\"Kiit University\", \"School of electronics\", \"Animesh\", 2130006)\n",
    "student.Name()\n",
    "student.SchoolName()\n",
    "student.StudentName()"
   ]
  }
 ],
 "metadata": {
  "kernelspec": {
   "display_name": "base",
   "language": "python",
   "name": "python3"
  },
  "language_info": {
   "codemirror_mode": {
    "name": "ipython",
    "version": 3
   },
   "file_extension": ".py",
   "mimetype": "text/x-python",
   "name": "python",
   "nbconvert_exporter": "python",
   "pygments_lexer": "ipython3",
   "version": "3.10.13"
  }
 },
 "nbformat": 4,
 "nbformat_minor": 2
}
