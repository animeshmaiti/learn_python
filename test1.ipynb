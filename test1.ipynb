{
 "cells": [
  {
   "cell_type": "code",
   "execution_count": 26,
   "metadata": {},
   "outputs": [
    {
     "data": {
      "text/plain": [
       "'Python is a high-level, general-purpose programming language. Its design philosophy emphasizes code readability\\nwith the use of significant 56 78 indentation. Python is dynamically typed and garbage-collected.\\nIt supports multip57le 56 programming paradigms, including structured, object-oriented and functional programming.'"
      ]
     },
     "execution_count": 26,
     "metadata": {},
     "output_type": "execute_result"
    }
   ],
   "source": [
    "a1 = \"\"\"Python is a high-level, general-purpose programming language. Its design philosophy emphasizes code readability\n",
    "with the use of significant 56 78 indentation. Python is dynamically typed and garbage-collected.\n",
    "It supports multip57le 56 programming paradigms, including structured, object-oriented and functional programming.\"\"\"\n",
    "a1"
   ]
  },
  {
   "cell_type": "code",
   "execution_count": 12,
   "metadata": {},
   "outputs": [
    {
     "name": "stdout",
     "output_type": "stream",
     "text": [
      "Lower case:  263\n",
      "Upper case:  4\n"
     ]
    }
   ],
   "source": [
    "lower = 0\n",
    "upper = 0\n",
    "for i in a1:\n",
    "    if i.islower():\n",
    "        lower += 1\n",
    "    elif i.isupper():\n",
    "        upper += 1\n",
    "print(\"Lower case: \", lower)\n",
    "print(\"Upper case: \", upper)"
   ]
  },
  {
   "cell_type": "code",
   "execution_count": 13,
   "metadata": {},
   "outputs": [
    {
     "name": "stdout",
     "output_type": "stream",
     "text": [
      "Alphabets:  267\n",
      "Digits:  8\n"
     ]
    }
   ],
   "source": [
    "alphabets = 0\n",
    "digits = 0\n",
    "for i in a1:\n",
    "    if i.isalpha():\n",
    "        alphabets += 1\n",
    "    elif i.isdigit():\n",
    "        digits += 1\n",
    "print(\"Alphabets: \", alphabets)\n",
    "print(\"Digits: \", digits)"
   ]
  },
  {
   "cell_type": "code",
   "execution_count": 18,
   "metadata": {},
   "outputs": [
    {
     "name": "stdout",
     "output_type": "stream",
     "text": [
      "Length:  324\n"
     ]
    }
   ],
   "source": [
    "length = 0\n",
    "for i in a1:\n",
    "    length += 1\n",
    "print(\"Length: \", length)"
   ]
  },
  {
   "cell_type": "code",
   "execution_count": 23,
   "metadata": {},
   "outputs": [],
   "source": [
    "str1 = \"hello world\"\n",
    "str2 = \"hellllo world\""
   ]
  },
  {
   "cell_type": "code",
   "execution_count": 24,
   "metadata": {},
   "outputs": [
    {
     "name": "stdout",
     "output_type": "stream",
     "text": [
      "hello world\n"
     ]
    }
   ],
   "source": [
    "def smallest(str1, str2):\n",
    "    count1 = 0\n",
    "    count2 = 0\n",
    "    for i in str1:\n",
    "        count1 += 1\n",
    "    for j in str2:\n",
    "        count2 += 1\n",
    "    if count1 < count2:\n",
    "        print(str1)\n",
    "    elif count2 < count1:\n",
    "        print(str2)\n",
    "smallest(str1, str2)"
   ]
  },
  {
   "cell_type": "code",
   "execution_count": 27,
   "metadata": {},
   "outputs": [
    {
     "name": "stdout",
     "output_type": "stream",
     "text": [
      "{'Python': 2, 'is': 2, 'a': 1, 'high-level,': 1, 'general-purpose': 1, 'programming': 2, 'language.': 1, 'Its': 1, 'design': 1, 'philosophy': 1, 'emphasizes': 1, 'code': 1, 'readability': 1, 'with': 1, 'the': 1, 'use': 1, 'of': 1, 'significant': 1, '56': 2, '78': 1, 'indentation.': 1, 'dynamically': 1, 'typed': 1, 'and': 2, 'garbage-collected.': 1, 'It': 1, 'supports': 1, 'multip57le': 1, 'paradigms,': 1, 'including': 1, 'structured,': 1, 'object-oriented': 1, 'functional': 1, 'programming.': 1}\n"
     ]
    }
   ],
   "source": [
    "counts={}\n",
    "for word in a1.split():\n",
    "    if word in counts:\n",
    "        counts[word] += 1\n",
    "    else:\n",
    "        counts[word] = 1\n",
    "print(counts)"
   ]
  },
  {
   "cell_type": "code",
   "execution_count": 28,
   "metadata": {},
   "outputs": [
    {
     "data": {
      "text/plain": [
       "'.gnimmargorp lanoitcnuf dna detneiro-tcejbo ,derutcurts gnidulcni ,smgidarap gnimmargorp 65 el75pitlum stroppus tI\\n.detcelloc-egabrag dna depyt yllacimanyd si nohtyP .noitatnedni 87 65 tnacifingis fo esu eht htiw\\nytilibadaer edoc sezisahpme yhposolihp ngised stI .egaugnal gnimmargorp esoprup-lareneg ,level-hgih a si nohtyP'"
      ]
     },
     "execution_count": 28,
     "metadata": {},
     "output_type": "execute_result"
    }
   ],
   "source": [
    "a1[::-1]"
   ]
  },
  {
   "cell_type": "code",
   "execution_count": 56,
   "metadata": {},
   "outputs": [
    {
     "name": "stdout",
     "output_type": "stream",
     "text": [
      "AAAA\n",
      "BBBB\n",
      "CCCC\n",
      "DDDD\n"
     ]
    }
   ],
   "source": [
    "# Define a list of letters\n",
    "letters = [\"A\", \"B\", \"C\", \"D\"]\n",
    "# Use a list comprehension to create a list of 4 times each letter\n",
    "output = [len(letters)* letter for letter in letters]\n",
    "# Join the list elements with a newline character and print the result\n",
    "print (\"\\n\".join (output))\n"
   ]
  },
  {
   "cell_type": "code",
   "execution_count": 72,
   "metadata": {},
   "outputs": [
    {
     "name": "stdout",
     "output_type": "stream",
     "text": [
      "A\n",
      "AB\n",
      "ABC\n",
      "ABCD\n",
      "ABCDE\n"
     ]
    }
   ],
   "source": [
    "letters = [\"A\", \"B\", \"C\", \"D\",\"E\"]\n",
    "output=[]\n",
    "for i in range(len(letters)):\n",
    "    for j in range(i+1):\n",
    "        output = letters[j]\n",
    "        print(output, end=\"\")\n",
    "    print(end=\"\\n\")\n",
    "        "
   ]
  },
  {
   "cell_type": "code",
   "execution_count": 74,
   "metadata": {},
   "outputs": [
    {
     "data": {
      "text/plain": [
       "['E', 'D', 'C', 'B', 'A']"
      ]
     },
     "execution_count": 74,
     "metadata": {},
     "output_type": "execute_result"
    }
   ],
   "source": [
    "letters=letters[::-1]\n",
    "letters"
   ]
  },
  {
   "cell_type": "code",
   "execution_count": 87,
   "metadata": {},
   "outputs": [
    {
     "name": "stdout",
     "output_type": "stream",
     "text": [
      "EDCBA\n",
      "EDCB\n",
      "EDC\n",
      "ED\n",
      "E\n"
     ]
    }
   ],
   "source": [
    "length = len(letters)\n",
    "for i in range(len(letters)):\n",
    "    for j in range(length):\n",
    "        print(letters[j], end=\"\")\n",
    "    length -= 1\n",
    "    print(end=\"\\n\")"
   ]
  }
 ],
 "metadata": {
  "kernelspec": {
   "display_name": "base",
   "language": "python",
   "name": "python3"
  },
  "language_info": {
   "codemirror_mode": {
    "name": "ipython",
    "version": 3
   },
   "file_extension": ".py",
   "mimetype": "text/x-python",
   "name": "python",
   "nbconvert_exporter": "python",
   "pygments_lexer": "ipython3",
   "version": "3.10.13"
  }
 },
 "nbformat": 4,
 "nbformat_minor": 2
}
